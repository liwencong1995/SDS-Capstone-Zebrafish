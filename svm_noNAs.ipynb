{
 "cells": [
  {
   "cell_type": "code",
   "execution_count": 1,
   "metadata": {},
   "outputs": [],
   "source": [
    "import pandas as pd\n",
    "import numpy as np\n",
    "import matplotlib as mpl\n",
    "import matplotlib.pyplot as plt\n",
    "from sklearn.metrics import confusion_matrix, classification_report\n",
    "from sklearn.model_selection import GridSearchCV\n",
    "from sklearn.svm import SVC\n",
    "from sklearn.metrics import f1_score\n",
    "\n",
    "%matplotlib inline\n",
    "\n",
    "# a function to draw a plot of an SVM\n",
    "def plot_svc(svc, X, y, h=0.02, pad=0.25):\n",
    "    x_min, x_max = X[:, 0].min()-pad, X[:, 0].max()+pad\n",
    "    y_min, y_max = X[:, 1].min()-pad, X[:, 1].max()+pad\n",
    "    xx, yy = np.meshgrid(np.arange(x_min, x_max, h), np.arange(y_min, y_max, h))\n",
    "    Z = svc.predict(np.c_[xx.ravel(), yy.ravel()])\n",
    "    Z = Z.reshape(xx.shape)\n",
    "    plt.figure(figsize=(8, 5))\n",
    "    plt.contourf(xx, yy, Z, cmap=plt.cm.Paired, alpha=0.2)\n",
    "\n",
    "    plt.scatter(X[:,0], X[:,1], s=70, c=y, cmap=mpl.cm.Paired)\n",
    "    sv = svc.support_vectors_\n",
    "    plt.xlim(x_min, x_max)\n",
    "    plt.ylim(y_min, y_max)\n",
    "    plt.xlabel('X1')\n",
    "    plt.ylabel('X2')\n",
    "    plt.show()"
   ]
  },
  {
   "cell_type": "code",
   "execution_count": 7,
   "metadata": {},
   "outputs": [
    {
     "data": {
      "text/html": [
       "<div>\n",
       "<style scoped>\n",
       "    .dataframe tbody tr th:only-of-type {\n",
       "        vertical-align: middle;\n",
       "    }\n",
       "\n",
       "    .dataframe tbody tr th {\n",
       "        vertical-align: top;\n",
       "    }\n",
       "\n",
       "    .dataframe thead th {\n",
       "        text-align: right;\n",
       "    }\n",
       "</style>\n",
       "<table border=\"1\" class=\"dataframe\">\n",
       "  <thead>\n",
       "    <tr style=\"text-align: right;\">\n",
       "      <th></th>\n",
       "      <th>landmark_index</th>\n",
       "      <th>sample_index</th>\n",
       "      <th>min_alpha</th>\n",
       "      <th>max_alpha</th>\n",
       "      <th>min_theta</th>\n",
       "      <th>max_theta</th>\n",
       "      <th>num</th>\n",
       "      <th>pts</th>\n",
       "      <th>r</th>\n",
       "      <th>stype</th>\n",
       "    </tr>\n",
       "  </thead>\n",
       "  <tbody>\n",
       "    <tr>\n",
       "      <th>0</th>\n",
       "      <td>1</td>\n",
       "      <td>1</td>\n",
       "      <td>-14.29</td>\n",
       "      <td>-4.76</td>\n",
       "      <td>-0.79</td>\n",
       "      <td>0.00</td>\n",
       "      <td>50</td>\n",
       "      <td>1251</td>\n",
       "      <td>5.000388</td>\n",
       "      <td>mt-zrf</td>\n",
       "    </tr>\n",
       "    <tr>\n",
       "      <th>1</th>\n",
       "      <td>2</td>\n",
       "      <td>1</td>\n",
       "      <td>-14.29</td>\n",
       "      <td>-4.76</td>\n",
       "      <td>-1.57</td>\n",
       "      <td>-0.79</td>\n",
       "      <td>50</td>\n",
       "      <td>313</td>\n",
       "      <td>2.442931</td>\n",
       "      <td>mt-zrf</td>\n",
       "    </tr>\n",
       "    <tr>\n",
       "      <th>2</th>\n",
       "      <td>3</td>\n",
       "      <td>1</td>\n",
       "      <td>-14.29</td>\n",
       "      <td>-4.76</td>\n",
       "      <td>-2.36</td>\n",
       "      <td>-1.57</td>\n",
       "      <td>50</td>\n",
       "      <td>30</td>\n",
       "      <td>1.475318</td>\n",
       "      <td>mt-zrf</td>\n",
       "    </tr>\n",
       "    <tr>\n",
       "      <th>3</th>\n",
       "      <td>4</td>\n",
       "      <td>1</td>\n",
       "      <td>-14.29</td>\n",
       "      <td>-4.76</td>\n",
       "      <td>-3.14</td>\n",
       "      <td>-2.36</td>\n",
       "      <td>50</td>\n",
       "      <td>169</td>\n",
       "      <td>1.438607</td>\n",
       "      <td>mt-zrf</td>\n",
       "    </tr>\n",
       "    <tr>\n",
       "      <th>4</th>\n",
       "      <td>5</td>\n",
       "      <td>1</td>\n",
       "      <td>-14.29</td>\n",
       "      <td>-4.76</td>\n",
       "      <td>0.00</td>\n",
       "      <td>0.79</td>\n",
       "      <td>50</td>\n",
       "      <td>773</td>\n",
       "      <td>3.382828</td>\n",
       "      <td>mt-zrf</td>\n",
       "    </tr>\n",
       "  </tbody>\n",
       "</table>\n",
       "</div>"
      ],
      "text/plain": [
       "   landmark_index  sample_index  min_alpha  max_alpha  min_theta  max_theta  \\\n",
       "0               1             1     -14.29      -4.76      -0.79       0.00   \n",
       "1               2             1     -14.29      -4.76      -1.57      -0.79   \n",
       "2               3             1     -14.29      -4.76      -2.36      -1.57   \n",
       "3               4             1     -14.29      -4.76      -3.14      -2.36   \n",
       "4               5             1     -14.29      -4.76       0.00       0.79   \n",
       "\n",
       "   num   pts         r   stype  \n",
       "0   50  1251  5.000388  mt-zrf  \n",
       "1   50   313  2.442931  mt-zrf  \n",
       "2   50    30  1.475318  mt-zrf  \n",
       "3   50   169  1.438607  mt-zrf  \n",
       "4   50   773  3.382828  mt-zrf  "
      ]
     },
     "execution_count": 7,
     "metadata": {},
     "output_type": "execute_result"
    }
   ],
   "source": [
    "landmarks_ZRF_noNA = pd.read_csv('./data/tidyLandmarks_no_na.csv')\n",
    "landmarks_ZRF_noNA = landmarks_ZRF_noNA.drop(columns=['Unnamed: 0'])\n",
    "landmarks_ZRF_noNA.head()"
   ]
  },
  {
   "cell_type": "markdown",
   "metadata": {},
   "source": [
    "## SVM Method "
   ]
  },
  {
   "cell_type": "code",
   "execution_count": 8,
   "metadata": {},
   "outputs": [],
   "source": [
    "def svm_classification(landmarks, index):\n",
    "    # filter out the landmarks needed\n",
    "    chosenLandmark = landmarks[landmarks.landmark_index==index]\n",
    "    chosenLandmark = chosenLandmark[np.isfinite(chosenLandmark['r'])]\n",
    "    \n",
    "    # create training and testing data\n",
    "    X = chosenLandmark[['pts', 'r']]\n",
    "    y = chosenLandmark['stype']\n",
    "    y = y.replace(['mt-zrf'], 1)\n",
    "    y = y.replace(['wt-zrf'], 0)\n",
    "    \n",
    "    # present the data\n",
    "    '''plt.figure(figsize=(8, 5))\n",
    "    plt.scatter(X.values[:,0], X.values[:,1], s=70, c=y, cmap=mpl.cm.Paired)\n",
    "    plt.xlabel('X1')\n",
    "    plt.ylabel('X2')\n",
    "    plt.show()'''\n",
    "    \n",
    "    # find the best C value by cross-validation\n",
    "    tuned_parameters = [{'C': [0.01, 0.1, 1, 10, 100, 1000]}]\n",
    "    clf = GridSearchCV(SVC(kernel='linear'), tuned_parameters, cv=10, scoring='accuracy')\n",
    "    clf.fit(X.values, y.values)\n",
    "    best_c = clf.best_params_['C']\n",
    "    \n",
    "    svc = SVC(C=best_c, kernel='linear')\n",
    "    svc.fit(X, y)\n",
    "    \n",
    "    plot_svc(svc, X.values, y)\n",
    "    \n",
    "    prediction = svc.predict(X)\n",
    "    # print confusion matrix\n",
    "    print(\"confusion matrix: \")\n",
    "    cm = confusion_matrix(y, prediction)\n",
    "    cm_df = pd.DataFrame(cm.T, index=svc.classes_, columns=svc.classes_)\n",
    "    print(cm_df)\n",
    "    print('Classification Report: ')\n",
    "    print(classification_report(y, \n",
    "                            prediction,\n",
    "                            digits = 3))\n",
    "    # print accuracy score\n",
    "    print('Classification Accuracy: ')\n",
    "    accuracy = f1_score(y, prediction)\n",
    "    print(accuracy)\n",
    "    \n",
    "    return svc, accuracy"
   ]
  },
  {
   "cell_type": "markdown",
   "metadata": {},
   "source": [
    "## Testing SVM Method "
   ]
  },
  {
   "cell_type": "code",
   "execution_count": 10,
   "metadata": {},
   "outputs": [
    {
     "name": "stdout",
     "output_type": "stream",
     "text": [
      "index: 1\n"
     ]
    },
    {
     "data": {
      "image/png": "[encoded data removed]",
      "text/plain": [
       "<matplotlib.figure.Figure at 0x1105d3f60>"
      ]
     },
     "metadata": {},
     "output_type": "display_data"
    },
    {
     "name": "stdout",
     "output_type": "stream",
     "text": [
      "confusion matrix: \n",
      "    0   1\n",
      "0  40   5\n",
      "1   2  10\n",
      "Classification Report: \n",
      "             precision    recall  f1-score   support\n",
      "\n",
      "          0      0.889     0.952     0.920        42\n",
      "          1      0.833     0.667     0.741        15\n",
      "\n",
      "avg / total      0.874     0.877     0.872        57\n",
      "\n",
      "Classification Accuracy: \n",
      "0.7407407407407408\n",
      "0.7407407407407408\n"
     ]
    }
   ],
   "source": [
    "for i in range(1,2):\n",
    "    print(\"index: \" + str(i))\n",
    "    svc, accuracy = svm_classification(landmarks_ZRF_noNA, i+1)\n",
    "    print(accuracy)"
   ]
  },
  {
   "cell_type": "code",
   "execution_count": null,
   "metadata": {},
   "outputs": [],
   "source": []
  }
 ],
 "metadata": {
  "kernelspec": {
   "display_name": "Python 3",
   "language": "python",
   "name": "python3"
  },
  "language_info": {
   "codemirror_mode": {
    "name": "ipython",
    "version": 3
   },
   "file_extension": ".py",
   "mimetype": "text/x-python",
   "name": "python",
   "nbconvert_exporter": "python",
   "pygments_lexer": "ipython3",
   "version": "3.6.4"
  }
 },
 "nbformat": 4,
 "nbformat_minor": 2
}
