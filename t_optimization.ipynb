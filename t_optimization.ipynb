{
 "cells": [
  {
   "cell_type": "code",
   "execution_count": 2,
   "metadata": {},
   "outputs": [],
   "source": [
    "%matplotlib inline\n",
    "\n",
    "import numpy as np\n",
    "import pandas as pd\n",
    "import statsmodels.api as sm\n",
    "import matplotlib.pyplot as plt\n",
    "import scipy\n",
    "import scipy.stats as stats"
   ]
  },
  {
   "cell_type": "markdown",
   "metadata": {},
   "source": [
    "### Read in Data"
   ]
  },
  {
   "cell_type": "code",
   "execution_count": 5,
   "metadata": {
    "collapsed": true
   },
   "outputs": [],
   "source": [
    "class Brain:\n",
    "    def __init__(self):\n",
    "        '''Initialize brain object'''\n",
    "\n",
    "    def read_data(self,filepath):\n",
    "        self.data = pd.read_csv(filepath, delimiter=' ', header = 19, names = ['x', 'y', 'z', 'a', 't', 'r'], index_col = 0)"
   ]
  },
  {
   "cell_type": "code",
   "execution_count": 6,
   "metadata": {},
   "outputs": [
    {
     "name": "stdout",
     "output_type": "stream",
     "text": [
      "wildtype_142_AT.psi\n",
      "wildtype_121_AT.psi\n",
      "wildtype_133_AT.psi\n",
      "wildtype_105_AT.psi\n",
      "wildtype_109_AT.psi\n",
      "wildtype_117_AT.psi\n",
      "wildtype_131_AT.psi\n",
      "wildtype_123_AT.psi\n",
      "wildtype_140_AT.psi\n",
      "wildtype_115_AT.psi\n",
      "wildtype_107_AT.psi\n",
      "wildtype_119_AT.psi\n",
      "wildtype_103_AT.psi\n",
      "wildtype_111_AT.psi\n",
      "wildtype_127_AT.psi\n",
      "wildtype_139_AT.psi\n",
      "wildtype_135_AT.psi\n",
      "wildtype_113_AT.psi\n",
      "wildtype_101_AT.psi\n",
      "wildtype_129_AT.psi\n",
      "wildtype_137_AT.psi\n",
      "wildtype_125_AT.psi\n",
      "wildtype_104_AT.psi\n",
      "wildtype_116_AT.psi\n",
      "wildtype_108_AT.psi\n",
      "wildtype_120_AT.psi\n",
      "wildtype_143_AT.psi\n",
      "wildtype_132_AT.psi\n",
      "wildtype_114_AT.psi\n",
      "wildtype_118_AT.psi\n",
      "wildtype_106_AT.psi\n",
      "wildtype_130_AT.psi\n",
      "wildtype_141_AT.psi\n",
      "wildtype_122_AT.psi\n",
      "wildtype_138_AT.psi\n",
      "wildtype_126_AT.psi\n",
      "wildtype_134_AT.psi\n",
      "wildtype_102_AT.psi\n",
      "wildtype_110_AT.psi\n",
      "wildtype_136_AT.psi\n",
      "wildtype_128_AT.psi\n",
      "wildtype_124_AT.psi\n",
      "wildtype_112_AT.psi\n"
     ]
    }
   ],
   "source": [
    "import os\n",
    "folder_dir = '../Output-WT-01-17-10-21'\n",
    "brain_names = os.listdir(folder_dir)\n",
    "wt_brains = []\n",
    "for brain in brain_names:\n",
    "    if ('_AT' not in brain): continue\n",
    "    print(brain)\n",
    "    new_brain = Brain()\n",
    "    new_brain.read_data(folder_dir+'/'+brain)\n",
    "    wt_brains.append(new_brain)"
   ]
  },
  {
   "cell_type": "markdown",
   "metadata": {},
   "source": [
    "### Calculate Bin Variences"
   ]
  },
  {
   "cell_type": "code",
   "execution_count": 107,
   "metadata": {},
   "outputs": [
    {
     "name": "stdout",
     "output_type": "stream",
     "text": [
      "[4.2509059486879419]\n",
      "[4.038418627581744, 4.6946627091992985]\n",
      "[3.7468277821511231, 4.4626990840097758, 5.155697543416041]\n",
      "[3.4067060223796863, 4.6826419138152175, 3.2085347045166892, 5.4391538828522679]\n",
      "[3.656036823528074, 4.3213817564825714, 3.4777396248519166, 4.1407275772057677, 5.5147215862012109]\n",
      "[3.8579502498446701, 3.6429662039986153, 5.2058989611288711, 2.8868385664456921, 5.1657354579984665, 5.1451446630279474]\n",
      "[4.0174527092775003, 2.819088701052149, 5.091982067093177, 3.1726100171717748, 3.2009733125754822, 5.9597969230138865, 4.6175344093619488]\n",
      "[4.1602523697042839, 2.5570652460014363, 4.6022914075875105, 5.0865659206752696, 2.8128462967243903, 3.578868631442893, 6.2703737869272693, 4.2918104616494404]\n",
      "[4.2642790178124068, 2.5437364026935327, 4.0017596818768375, 5.5058627879249027, 2.8981566363509668, 3.03964488606286, 4.1184701575772866, 6.4667108245457126, 4.1092564943620875]\n",
      "[4.343352486409028, 2.6138536541331909, 3.2635817607419666, 5.1886480133139035, 4.5423163185096476, 2.6296462782371899, 3.2550702633419459, 4.7335852771108335, 6.5379794315718875, 4.0338029770674613]\n",
      "[4.3966359931771022, 2.7297733748101702, 2.7207038833322876, 4.7940830629317324, 5.610039296172336, 2.8099035637839314, 2.9414210856542566, 3.4368472405359216, 5.3369130774330342, 6.5045317351423879, 3.9734982296936336]\n",
      "[4.4231385077950005, 2.8926155085845933, 2.5032217872967584, 4.2668927694079448, 5.4353028876630223, 3.9307137432858079, 2.5770667531816094, 3.2517271112768036, 3.736441918698727, 5.9175006775236287, 6.291016253171505, 3.9317591753141321]\n",
      "[4.4197117733472648, 3.0945582528635645, 2.4532160643732253, 3.661103698052361, 5.2199068270851674, 5.7135763640851058, 2.7856661307445658, 2.7765182082552298, 3.1768072083065451, 4.2695826296845674, 6.3136539142595938, 5.9094110312122101, 3.9013572365202318]\n",
      "[4.3936521312272703, 3.3380577755229837, 2.4733403060635433, 3.1202680088571499, 4.9104558304356685, 5.4983271683991264, 3.649034184549123, 2.5844897882929425, 3.1523925775866029, 3.2640531668768547, 4.6363880483619813, 6.6225182237730849, 5.6021143441842005, 3.8735930346704603]\n"
     ]
    }
   ],
   "source": [
    "import math\n",
    "\n",
    "bin_num = []\n",
    "bin_varience = []\n",
    "sample_varience = []\n",
    "t_min = -math.pi\n",
    "t_max = math.pi\n",
    "\n",
    "for t_bin_num in range (1,15):\n",
    "    bin_num.append(t_bin_num)\n",
    "    t_bin_means.append([])\n",
    "    bins = np.linspace(t_min, t_max, t_bin_num+1)\n",
    "    bin_variences = []\n",
    "    pt_nums = []\n",
    "    r_midians = []\n",
    "    \n",
    "    # calculate bin varience\n",
    "    for brain in wt_brains:\n",
    "        pt_num = []\n",
    "        r_midian = []\n",
    "        \n",
    "        for bin in range (t_bin_num):\n",
    "#             print(\"bin_min: \", bins[bin])\n",
    "#             print(\"bin_min: \", bins[bin+1])\n",
    "\n",
    "            sector = brain.data\n",
    "            sector = sector[np.logical_and(sector.t>bins[bin], sector.t<bins[bin+1])]\n",
    "#             print(\"shape: \", np.shape(sector))\n",
    "#             print(\"r median: \", np.median(sector.r))\n",
    "            pt_num.append(np.median(sector.r))\n",
    "            r_midian.append(np.median(sector.r))\n",
    "\n",
    "#             print()\n",
    "#         print(\"varience: \", np.var(r_medians))\n",
    "        pt_nums.append(pt_num)\n",
    "        r_midians.append(r_midian)\n",
    "        bin_variences.append(np.var(r_midian))\n",
    "        \n",
    "    bin_varience.append(np.mean(bin_variences))\n",
    "        \n",
    "    # calculate sample varience\n",
    "    print(pt_nums[0])\n",
    "    bin_pt_nums_varience = []\n",
    "    for i in range (t_bin_num):\n",
    "        bin_pt_nums = [pt_num[i] for pt_num in r_midians]\n",
    "        bin_pt_nums_varience.append(np.var(bin_pt_nums))\n",
    "#         print(np.var(bin_pt_nums))\n",
    "#     print(np.mean(bin_pt_nums_varience))\n",
    "#     print()\n",
    "    sample_varience.append(np.mean(bin_pt_nums_varience))"
   ]
  },
  {
   "cell_type": "code",
   "execution_count": 108,
   "metadata": {},
   "outputs": [
    {
     "name": "stdout",
     "output_type": "stream",
     "text": [
      "[2.0622467699183198, 2.4306013017658872, 3.1328694207497185, 3.4248304463202022, 3.6880000365590306, 4.5076089866458826, 4.3600923094910939, 4.408853601990292, 4.6316759985826401, 4.4183460275594859, 4.7235972640499266, 4.7021926727513224, 4.6871954606082022, 4.8254262992639942]\n"
     ]
    }
   ],
   "source": [
    "print(sample_varience)"
   ]
  },
  {
   "cell_type": "code",
   "execution_count": 115,
   "metadata": {},
   "outputs": [
    {
     "data": {
      "text/plain": [
       "<matplotlib.text.Text at 0x1456f16d8>"
      ]
     },
     "execution_count": 115,
     "metadata": {},
     "output_type": "execute_result"
    },
    {
     "data": {
      "image/png": "[encoded data removed]",
      "text/plain": [
       "<matplotlib.figure.Figure at 0x14564def0>"
      ]
     },
     "metadata": {},
     "output_type": "display_data"
    }
   ],
   "source": [
    "plt.figure(figsize=(10, 10))\n",
    "plt.subplot(2, 1, 1)\n",
    "plt.plot(bin_num, sample_varience)\n",
    "plt.xlabel('number of bins')\n",
    "plt.ylabel('sample varience')\n",
    "plt.title('sample varience vs. bin #')\n",
    "\n",
    "plt.subplot(2, 1, 2)\n",
    "plt.plot(bin_num, bin_varience)\n",
    "plt.xlabel('number of bins')\n",
    "plt.ylabel('bin varience')\n",
    "plt.title('bin varience vs. bin #')"
   ]
  },
  {
   "cell_type": "code",
   "execution_count": 112,
   "metadata": {},
   "outputs": [
    {
     "data": {
      "text/plain": [
       "[<matplotlib.lines.Line2D at 0x14500e828>,\n",
       " <matplotlib.lines.Line2D at 0x14500eac8>]"
      ]
     },
     "execution_count": 112,
     "metadata": {},
     "output_type": "execute_result"
    },
    {
     "data": {
      "image/png": "[encoded data removed]",
      "text/plain": [
       "<matplotlib.figure.Figure at 0x143e72390>"
      ]
     },
     "metadata": {},
     "output_type": "display_data"
    }
   ],
   "source": [
    "plt.plot(bin_num, bin_varience, 'r--', bin_num, sample_varience, 'b--')"
   ]
  },
  {
   "cell_type": "code",
   "execution_count": null,
   "metadata": {
    "collapsed": true
   },
   "outputs": [],
   "source": []
  }
 ],
 "metadata": {
  "kernelspec": {
   "display_name": "Python 3",
   "language": "python",
   "name": "python3"
  },
  "language_info": {
   "codemirror_mode": {
    "name": "ipython",
    "version": 3
   },
   "file_extension": ".py",
   "mimetype": "text/x-python",
   "name": "python",
   "nbconvert_exporter": "python",
   "pygments_lexer": "ipython3",
   "version": "3.5.4"
  }
 },
 "nbformat": 4,
 "nbformat_minor": 2
}
