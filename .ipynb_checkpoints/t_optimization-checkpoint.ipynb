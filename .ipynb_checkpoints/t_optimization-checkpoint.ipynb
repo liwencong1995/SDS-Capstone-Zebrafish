{
 "cells": [
  {
   "cell_type": "code",
   "execution_count": 2,
   "metadata": {},
   "outputs": [],
   "source": [
    "%matplotlib inline\n",
    "\n",
    "import numpy as np\n",
    "import pandas as pd\n",
    "import statsmodels.api as sm\n",
    "import matplotlib.pyplot as plt\n",
    "import scipy\n",
    "import scipy.stats as stats"
   ]
  },
  {
   "cell_type": "markdown",
   "metadata": {},
   "source": [
    "### Read in Data"
   ]
  },
  {
   "cell_type": "code",
   "execution_count": 5,
   "metadata": {
    "collapsed": true
   },
   "outputs": [],
   "source": [
    "class Brain:\n",
    "    def __init__(self):\n",
    "        '''Initialize brain object'''\n",
    "\n",
    "    def read_data(self,filepath):\n",
    "        self.data = pd.read_csv(filepath, delimiter=' ', header = 19, names = ['x', 'y', 'z', 'a', 't', 'r'], index_col = 0)"
   ]
  },
  {
   "cell_type": "code",
   "execution_count": 6,
   "metadata": {},
   "outputs": [
    {
     "name": "stdout",
     "output_type": "stream",
     "text": [
      "wildtype_142_AT.psi\n",
      "wildtype_121_AT.psi\n",
      "wildtype_133_AT.psi\n",
      "wildtype_105_AT.psi\n",
      "wildtype_109_AT.psi\n",
      "wildtype_117_AT.psi\n",
      "wildtype_131_AT.psi\n",
      "wildtype_123_AT.psi\n",
      "wildtype_140_AT.psi\n",
      "wildtype_115_AT.psi\n",
      "wildtype_107_AT.psi\n",
      "wildtype_119_AT.psi\n",
      "wildtype_103_AT.psi\n",
      "wildtype_111_AT.psi\n",
      "wildtype_127_AT.psi\n",
      "wildtype_139_AT.psi\n",
      "wildtype_135_AT.psi\n",
      "wildtype_113_AT.psi\n",
      "wildtype_101_AT.psi\n",
      "wildtype_129_AT.psi\n",
      "wildtype_137_AT.psi\n",
      "wildtype_125_AT.psi\n",
      "wildtype_104_AT.psi\n",
      "wildtype_116_AT.psi\n",
      "wildtype_108_AT.psi\n",
      "wildtype_120_AT.psi\n",
      "wildtype_143_AT.psi\n",
      "wildtype_132_AT.psi\n",
      "wildtype_114_AT.psi\n",
      "wildtype_118_AT.psi\n",
      "wildtype_106_AT.psi\n",
      "wildtype_130_AT.psi\n",
      "wildtype_141_AT.psi\n",
      "wildtype_122_AT.psi\n",
      "wildtype_138_AT.psi\n",
      "wildtype_126_AT.psi\n",
      "wildtype_134_AT.psi\n",
      "wildtype_102_AT.psi\n",
      "wildtype_110_AT.psi\n",
      "wildtype_136_AT.psi\n",
      "wildtype_128_AT.psi\n",
      "wildtype_124_AT.psi\n",
      "wildtype_112_AT.psi\n"
     ]
    }
   ],
   "source": [
    "import os\n",
    "folder_dir = '../Output-WT-01-17-10-21'\n",
    "brain_names = os.listdir(folder_dir)\n",
    "wt_brains = []\n",
    "for brain in brain_names:\n",
    "    if ('_AT' not in brain): continue\n",
    "    print(brain)\n",
    "    new_brain = Brain()\n",
    "    new_brain.read_data(folder_dir+'/'+brain)\n",
    "    wt_brains.append(new_brain)"
   ]
  },
  {
   "cell_type": "markdown",
   "metadata": {},
   "source": [
    "### Calculate Bin Variences"
   ]
  },
  {
   "cell_type": "code",
   "execution_count": 83,
   "metadata": {},
   "outputs": [
    {
     "name": "stdout",
     "output_type": "stream",
     "text": [
      "[824925]\n",
      "[473834, 351091]\n",
      "[297299, 251448, 276178]\n",
      "[178922, 294912, 121664, 229427]\n",
      "[152050, 245048, 117476, 123304, 187047]\n",
      "[137678, 159621, 176535, 74913, 129706, 146472]\n",
      "[125479, 89195, 211118, 77260, 68507, 139882, 113484]\n",
      "[115197, 63725, 187832, 107080, 55008, 66656, 137256, 92171]\n",
      "[107743, 54905, 134651, 143889, 55786, 51773, 68971, 129036, 78171]\n",
      "[101462, 50588, 83239, 161809, 76736, 40740, 49059, 74245, 118049, 68998]\n",
      "[95477, 48844, 54070, 153219, 97377, 44267, 41601, 45217, 78583, 104520, 61750]\n",
      "[89202, 48476, 41244, 118377, 117506, 59029, 33633, 41280, 46751, 82955, 90685, 55787]\n",
      "[82386, 49159, 35816, 80517, 130885, 74677, 37117, 32719, 36625, 51158, 85427, 77458, 50981]\n",
      "[75490, 49989, 33136, 56059, 127447, 83671, 48042, 29218, 34974, 33533, 52765, 87117, 66745, 46739]\n"
     ]
    }
   ],
   "source": [
    "import math\n",
    "\n",
    "bin_num = []\n",
    "bin_varience = []\n",
    "sample_varience = []\n",
    "t_min = -math.pi\n",
    "t_max = math.pi\n",
    "\n",
    "for t_bin_num in range (1,15):\n",
    "    bin_num.append(t_bin_num)\n",
    "    t_bin_means.append([])\n",
    "    bins = np.linspace(t_min, t_max, t_bin_num+1)\n",
    "    bin_variences = []\n",
    "    pt_nums = []\n",
    "    \n",
    "    # calculate bin varience\n",
    "    for brain in wt_brains:\n",
    "        pt_num = []\n",
    "        r_midian = []\n",
    "        for bin in range (t_bin_num):\n",
    "#             print(\"bin_min: \", bins[bin])\n",
    "#             print(\"bin_min: \", bins[bin+1])\n",
    "\n",
    "            sector = brain.data\n",
    "            sector = sector[np.logical_and(sector.t>bins[bin], sector.t<bins[bin+1])]\n",
    "#             print(\"shape: \", np.shape(sector))\n",
    "#             print(\"r median: \", np.median(sector.r))\n",
    "            pt_num.append(len(sector.r))\n",
    "            r_midian.append(np.median(sector.r))\n",
    "\n",
    "#             print()\n",
    "#         print(\"varience: \", np.var(r_medians))\n",
    "        pt_nums.append(pt_num)\n",
    "        bin_variences.append(np.var(pt_num))\n",
    "        \n",
    "    bin_varience.append(np.mean(bin_variences))\n",
    "        \n",
    "    # calculate sample varience\n",
    "    print(pt_nums[0])\n",
    "    bin_pt_nums_varience = []\n",
    "    for i in range (t_bin_num):\n",
    "        bin_pt_nums = [pt_num[i] for pt_num in r_midian]\n",
    "        bin_pt_nums_varience.append(np.var(bin_pt_nums))\n",
    "#         print(np.var(bin_pt_nums))\n",
    "#     print(np.mean(bin_pt_nums_varience))\n",
    "#     print()\n",
    "    sample_varience.append(np.mean(bin_pt_nums_varience)/10)"
   ]
  },
  {
   "cell_type": "code",
   "execution_count": 73,
   "metadata": {},
   "outputs": [
    {
     "name": "stdout",
     "output_type": "stream",
     "text": [
      "[16211646478.648458, 9262522755.3722725, 6509989909.8856125]\n"
     ]
    }
   ],
   "source": [
    "print(sample_varience)"
   ]
  },
  {
   "cell_type": "code",
   "execution_count": 84,
   "metadata": {},
   "outputs": [
    {
     "data": {
      "text/plain": [
       "[<matplotlib.lines.Line2D at 0x1128e5eb8>]"
      ]
     },
     "execution_count": 84,
     "metadata": {},
     "output_type": "execute_result"
    },
    {
     "data": {
      "image/png": "[encoded data removed]",
      "text/plain": [
       "<matplotlib.figure.Figure at 0x1134314e0>"
      ]
     },
     "metadata": {},
     "output_type": "display_data"
    }
   ],
   "source": [
    "plt.plot(bin_num, sample_varience)"
   ]
  },
  {
   "cell_type": "code",
   "execution_count": 85,
   "metadata": {},
   "outputs": [
    {
     "data": {
      "text/plain": [
       "[<matplotlib.lines.Line2D at 0x11348a668>]"
      ]
     },
     "execution_count": 85,
     "metadata": {},
     "output_type": "execute_result"
    },
    {
     "data": {
      "image/png": "[encoded data removed]",
      "text/plain": [
       "<matplotlib.figure.Figure at 0x1131e54a8>"
      ]
     },
     "metadata": {},
     "output_type": "display_data"
    }
   ],
   "source": [
    "plt.plot(bin_num, bin_varience)"
   ]
  },
  {
   "cell_type": "code",
   "execution_count": 86,
   "metadata": {},
   "outputs": [
    {
     "data": {
      "text/plain": [
       "[<matplotlib.lines.Line2D at 0x1134f2978>,\n",
       " <matplotlib.lines.Line2D at 0x1134f2c18>]"
      ]
     },
     "execution_count": 86,
     "metadata": {},
     "output_type": "execute_result"
    },
    {
     "data": {
      "image/png": "[encoded data removed]",
      "text/plain": [
       "<matplotlib.figure.Figure at 0x1134ad860>"
      ]
     },
     "metadata": {},
     "output_type": "display_data"
    }
   ],
   "source": [
    "plt.plot(bin_num, bin_varience, 'r--', bin_num, sample_varience, 'b--')"
   ]
  },
  {
   "cell_type": "code",
   "execution_count": null,
   "metadata": {
    "collapsed": true
   },
   "outputs": [],
   "source": []
  }
 ],
 "metadata": {
  "kernelspec": {
   "display_name": "Python 3",
   "language": "python",
   "name": "python3"
  },
  "language_info": {
   "codemirror_mode": {
    "name": "ipython",
    "version": 3
   },
   "file_extension": ".py",
   "mimetype": "text/x-python",
   "name": "python",
   "nbconvert_exporter": "python",
   "pygments_lexer": "ipython3",
   "version": "3.5.4"
  }
 },
 "nbformat": 4,
 "nbformat_minor": 2
}
