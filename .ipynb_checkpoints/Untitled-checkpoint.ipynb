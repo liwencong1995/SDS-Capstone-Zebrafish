{
 "cells": [
  {
   "cell_type": "code",
   "execution_count": 7,
   "metadata": {},
   "outputs": [
    {
     "name": "stdout",
     "output_type": "stream",
     "text": [
      "done\n",
      "done\n"
     ]
    }
   ],
   "source": [
    "import pandas as pd\n",
    "import numpy as np\n",
    "import matplotlib as mpl\n",
    "import matplotlib.pyplot as plt\n",
    "from sklearn.metrics import confusion_matrix, classification_report\n",
    "from sklearn.model_selection import GridSearchCV\n",
    "from sklearn.svm import SVC\n",
    "from sklearn.metrics import f1_score, precision_score, recall_score\n",
    "\n",
    "filenames = [\"sampleStuff.txt\" , \"eh.txt\"]\n",
    "for i in range(2):\n",
    "    result_file_name = filenames[i]\n",
    "    result_file = open(result_file_name, 'w') \n",
    "    result_file.write('landmark_index, pred, ww, wm, mm, mw\\n')\n",
    "    results = []\n",
    "    for j in range(20):\n",
    "        results.append(str(j) +\"\\n\")\n",
    "\t\n",
    "    results.append(\"round:\"+str(i))\n",
    "    result_file.write(''.join(results))\n",
    "    result_file.close()  \n",
    "    print(\"done\")\n",
    "    "
   ]
  },
  {
   "cell_type": "code",
   "execution_count": null,
   "metadata": {},
   "outputs": [],
   "source": []
  }
 ],
 "metadata": {
  "kernelspec": {
   "display_name": "Python 3",
   "language": "python",
   "name": "python3"
  },
  "language_info": {
   "codemirror_mode": {
    "name": "ipython",
    "version": 3
   },
   "file_extension": ".py",
   "mimetype": "text/x-python",
   "name": "python",
   "nbconvert_exporter": "python",
   "pygments_lexer": "ipython3",
   "version": "3.6.4"
  }
 },
 "nbformat": 4,
 "nbformat_minor": 2
}
