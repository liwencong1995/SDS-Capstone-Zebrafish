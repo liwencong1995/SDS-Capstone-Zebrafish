{
 "cells": [
  {
   "cell_type": "code",
   "execution_count": 1,
   "metadata": {
    "collapsed": true
   },
   "outputs": [],
   "source": [
    "import pandas as pd\n",
    "import numpy as np\n",
    "import matplotlib as mpl\n",
    "import matplotlib.pyplot as plt\n",
    "from sklearn.metrics import confusion_matrix, classification_report\n",
    "from sklearn.model_selection import GridSearchCV\n",
    "from sklearn.svm import SVC\n",
    "from sklearn.metrics import f1_score\n",
    "\n",
    "%matplotlib inline"
   ]
  },
  {
   "cell_type": "markdown",
   "metadata": {},
   "source": [
    "### Read in Raw Result"
   ]
  },
  {
   "cell_type": "code",
   "execution_count": 2,
   "metadata": {
    "collapsed": true
   },
   "outputs": [],
   "source": [
    "def process_row_data(input_path, output_path):\n",
    "    results = pd.read_csv(input_path)\n",
    "    results.columns = results.columns.str.strip()\n",
    "    results['w_support'] = (results['ww'] + results['wm'])\n",
    "    results['m_support'] = (results['mm'] + results['mw'])\n",
    "\n",
    "    results['w_precision'] = results['ww'] / (results['ww'] + results['mw'])\n",
    "    results['w_recall'] = results['ww'] / (results['ww'] + results['wm'])\n",
    "    results['m_precision'] = results['mm'] / (results['mm'] + results['wm'])\n",
    "    results['m_recall'] = results['mm'] / (results['mm'] + results['mw'])\n",
    "    results = results.fillna(0)\n",
    "    \n",
    "    results['w_f1'] = ( 2 * results['w_precision'] * results['w_recall'] )/ (results['w_precision'] + results['w_recall'])\n",
    "    results['m_f1'] = ( 2 * results['m_precision'] * results['m_recall'] )/ (results['m_precision'] + results['m_recall'])\n",
    "    results = results.fillna(0)\n",
    "    \n",
    "    results['precision'] = ((results['w_precision'] * results['w_support']) + (results['m_precision'] * results['m_support']))/ (results['w_support'] + results['m_support'])\n",
    "    results['recall'] = ((results['w_recall'] * results['w_support']) + (results['m_recall'] * results['m_support']))/ (results['w_support'] + results['m_support'])\n",
    "    results['f1'] = ((results['w_f1'] * results['w_support']) + (results['m_f1'] * results['m_support']))/ (results['w_support'] + results['m_support'])\n",
    "    results = results.fillna(0)\n",
    "    \n",
    "    #print(results.info())\n",
    "    \n",
    "    results.to_csv(output_path)"
   ]
  },
  {
   "cell_type": "markdown",
   "metadata": {},
   "source": [
    "### Analysis Distribution of Overall Scores"
   ]
  },
  {
   "cell_type": "code",
   "execution_count": 6,
   "metadata": {
    "collapsed": true
   },
   "outputs": [],
   "source": [
    "def analyse_result(file_path):\n",
    "    results = pd.read_csv(file_path)\n",
    "    #print(results.head())\n",
    "\n",
    "    # the histogram of the data\n",
    "    '''plt.figure(figsize=(15, 15)) \n",
    "    plt.subplot(3, 3, 1)\n",
    "    plt.hist(results.precision, 50, facecolor='b', alpha=0.5, normed=True, range=[0, 1])\n",
    "    plt.xlabel('precision')\n",
    "    plt.title('Overall Precision')\n",
    "    plt.grid(True)\n",
    "\n",
    "    plt.subplot(3, 3, 2)\n",
    "    plt.hist(results.recall, 50, facecolor='r', alpha=0.5, normed=True, range=[0, 1])\n",
    "    plt.xlabel('recall')\n",
    "    plt.title('Overall Recall')\n",
    "    plt.grid(True)\n",
    "\n",
    "    plt.subplot(3, 3, 3)\n",
    "    plt.hist(results.f1, 50, facecolor='g', alpha=0.5, normed=True, range=[0, 1])\n",
    "    plt.xlabel('F1')\n",
    "    plt.title('Overall F1')\n",
    "    plt.grid(True)\n",
    "\n",
    "    plt.subplot(3, 3, 4)\n",
    "    plt.hist(results.w_precision, 50, facecolor='b', alpha=0.5, range=[0, 1])\n",
    "    plt.xlabel('precision')\n",
    "    plt.title('WT Precision')\n",
    "    plt.grid(True)\n",
    "\n",
    "    plt.subplot(3, 3, 5)\n",
    "    plt.hist(results.w_recall, 50, facecolor='r', alpha=0.5, range=[0, 1])\n",
    "    plt.xlabel('recall')\n",
    "    plt.title('WT Recall')\n",
    "    plt.grid(True)\n",
    "\n",
    "    plt.subplot(3, 3, 6)\n",
    "    plt.hist(results.w_f1, 50, facecolor='g', alpha=0.5, range=[0, 1])\n",
    "    plt.xlabel('f1')\n",
    "    plt.title('WT F1')\n",
    "    plt.grid(True)\n",
    "\n",
    "    plt.subplot(3, 3, 7)\n",
    "    plt.hist(results.m_precision, 50, facecolor='b', alpha=0.5, range=[0, 1])\n",
    "    plt.xlabel('precision')\n",
    "    plt.title('MT Precision')\n",
    "    plt.grid(True)\n",
    "\n",
    "    plt.subplot(3, 3, 8)\n",
    "    plt.hist(results.m_recall, 50, facecolor='r', alpha=0.5, range=[0, 1])\n",
    "    plt.xlabel('recall')\n",
    "    plt.title('MT Recall')\n",
    "    plt.grid(True)\n",
    "\n",
    "    plt.subplot(3, 3, 9)\n",
    "    plt.hist(results.m_f1, 50, facecolor='g', alpha=0.5, range=[0, 1])\n",
    "    plt.xlabel('F1')\n",
    "    plt.title('MT F1')\n",
    "    plt.grid(True)\n",
    "\n",
    "    plt.show()'''\n",
    "    \n",
    "    print('votes for type 0 (no threshold): ', results[(results.pred == 0)].shape)\n",
    "    print('votes for type 1 (no threshold): ', results[(results.pred == 1)].shape)\n",
    "    print('votes for type 0 (m_f1>0.5): ', results[(results.pred == 0) & (results.m_f1 > 0.5)].shape)\n",
    "    print('votes for type 1 (m_f1>0.5): ', results[(results.pred == 1) & (results.m_f1 > 0.5)].shape)"
   ]
  },
  {
   "cell_type": "code",
   "execution_count": 7,
   "metadata": {},
   "outputs": [
    {
     "name": "stdout",
     "output_type": "stream",
     "text": [
      "votes for type 0 (no threshold):  (17, 18)\n",
      "votes for type 1 (no threshold):  (135, 18)\n",
      "votes for type 0 (m_f1>0.5):  (7, 18)\n",
      "votes for type 1 (m_f1>0.5):  (135, 18)\n"
     ]
    }
   ],
   "source": [
    "process_row_data('./output/r1_med_AT.csv', './analysis/r1_med_AT_result.csv')\n",
    "analyse_result('./analysis/r1_med_AT_result.csv')"
   ]
  },
  {
   "cell_type": "code",
   "execution_count": 8,
   "metadata": {},
   "outputs": [
    {
     "name": "stdout",
     "output_type": "stream",
     "text": [
      "votes for type 0 (no threshold):  (14, 18)\n",
      "votes for type 1 (no threshold):  (138, 18)\n",
      "votes for type 0 (m_f1>0.5):  (6, 18)\n",
      "votes for type 1 (m_f1>0.5):  (134, 18)\n"
     ]
    }
   ],
   "source": [
    "process_row_data('./output/r1_2med_AT.csv', './analysis/r1_2med_AT_result.csv')\n",
    "analyse_result('./analysis/r1_2med_AT_result.csv')"
   ]
  },
  {
   "cell_type": "code",
   "execution_count": 9,
   "metadata": {},
   "outputs": [
    {
     "name": "stdout",
     "output_type": "stream",
     "text": [
      "votes for type 0 (no threshold):  (131, 18)\n",
      "votes for type 1 (no threshold):  (21, 18)\n",
      "votes for type 0 (m_f1>0.5):  (122, 18)\n",
      "votes for type 1 (m_f1>0.5):  (21, 18)\n"
     ]
    }
   ],
   "source": [
    "process_row_data('./output/r101_med_AT.csv', './analysis/r101_med_AT_result.csv')\n",
    "analyse_result('./analysis/r101_med_AT_result.csv')"
   ]
  },
  {
   "cell_type": "code",
   "execution_count": 10,
   "metadata": {},
   "outputs": [
    {
     "name": "stdout",
     "output_type": "stream",
     "text": [
      "votes for type 0 (no threshold):  (132, 18)\n",
      "votes for type 1 (no threshold):  (20, 18)\n",
      "votes for type 0 (m_f1>0.5):  (122, 18)\n",
      "votes for type 1 (m_f1>0.5):  (19, 18)\n"
     ]
    }
   ],
   "source": [
    "process_row_data('./output/r101_2med_AT.csv', './analysis/r101_2med_AT_result.csv')\n",
    "analyse_result('./analysis/r101_2med_AT_result.csv')"
   ]
  },
  {
   "cell_type": "code",
   "execution_count": 11,
   "metadata": {},
   "outputs": [
    {
     "name": "stdout",
     "output_type": "stream",
     "text": [
      "votes for type 0 (no threshold):  (131, 18)\n",
      "votes for type 1 (no threshold):  (21, 18)\n",
      "votes for type 0 (m_f1>0.5):  (120, 18)\n",
      "votes for type 1 (m_f1>0.5):  (21, 18)\n"
     ]
    }
   ],
   "source": [
    "process_row_data('./output/r102_2med_AT.csv', './analysis/r102_2med_AT_result.csv')\n",
    "analyse_result('./analysis/r102_2med_AT_result.csv')"
   ]
  },
  {
   "cell_type": "code",
   "execution_count": 13,
   "metadata": {},
   "outputs": [
    {
     "name": "stdout",
     "output_type": "stream",
     "text": [
      "votes for type 0 (no threshold):  (103, 18)\n",
      "votes for type 1 (no threshold):  (49, 18)\n",
      "votes for type 0 (m_f1>0.5):  (94, 18)\n",
      "votes for type 1 (m_f1>0.5):  (48, 18)\n"
     ]
    }
   ],
   "source": [
    "process_row_data('./output/r103_2med_AT.csv', './analysis/r103_2med_AT_result.csv')\n",
    "analyse_result('./analysis/r103_2med_AT_result.csv')"
   ]
  },
  {
   "cell_type": "code",
   "execution_count": 14,
   "metadata": {},
   "outputs": [
    {
     "name": "stdout",
     "output_type": "stream",
     "text": [
      "votes for type 0 (no threshold):  (103, 18)\n",
      "votes for type 1 (no threshold):  (49, 18)\n",
      "votes for type 0 (m_f1>0.5):  (94, 18)\n",
      "votes for type 1 (m_f1>0.5):  (48, 18)\n"
     ]
    }
   ],
   "source": [
    "process_row_data('./output/r103_2med_AT.csv', './analysis/r103_2med_AT_result.csv')\n",
    "analyse_result('./analysis/r103_2med_AT_result.csv')"
   ]
  },
  {
   "cell_type": "code",
   "execution_count": 15,
   "metadata": {},
   "outputs": [
    {
     "name": "stdout",
     "output_type": "stream",
     "text": [
      "votes for type 0 (no threshold):  (144, 18)\n",
      "votes for type 1 (no threshold):  (8, 18)\n",
      "votes for type 0 (m_f1>0.5):  (134, 18)\n",
      "votes for type 1 (m_f1>0.5):  (8, 18)\n"
     ]
    }
   ],
   "source": [
    "process_row_data('./output/r104_2med_AT.csv', './analysis/r104_2med_AT_result.csv')\n",
    "analyse_result('./analysis/r104_2med_AT_result.csv')"
   ]
  },
  {
   "cell_type": "code",
   "execution_count": 18,
   "metadata": {},
   "outputs": [
    {
     "name": "stdout",
     "output_type": "stream",
     "text": [
      "votes for type 0 (no threshold):  (131, 18)\n",
      "votes for type 1 (no threshold):  (21, 18)\n",
      "votes for type 0 (m_f1>0.5):  (120, 18)\n",
      "votes for type 1 (m_f1>0.5):  (21, 18)\n"
     ]
    }
   ],
   "source": [
    "process_row_data('./output/r105_2med_AT.csv', './analysis/r105_2med_AT_result.csv')\n",
    "analyse_result('./analysis/r105_2med_AT_result.csv')"
   ]
  },
  {
   "cell_type": "code",
   "execution_count": 19,
   "metadata": {},
   "outputs": [
    {
     "name": "stdout",
     "output_type": "stream",
     "text": [
      "votes for type 0 (no threshold):  (51, 18)\n",
      "votes for type 1 (no threshold):  (101, 18)\n",
      "votes for type 0 (m_f1>0.5):  (41, 18)\n",
      "votes for type 1 (m_f1>0.5):  (100, 18)\n"
     ]
    }
   ],
   "source": [
    "process_row_data('./output/r318_2med_AT.csv', './analysis/r318_2med_AT_result.csv')\n",
    "analyse_result('./analysis/r318_2med_AT_result.csv')"
   ]
  },
  {
   "cell_type": "code",
   "execution_count": 20,
   "metadata": {},
   "outputs": [
    {
     "name": "stdout",
     "output_type": "stream",
     "text": [
      "votes for type 0 (no threshold):  (52, 18)\n",
      "votes for type 1 (no threshold):  (100, 18)\n",
      "votes for type 0 (m_f1>0.5):  (43, 18)\n",
      "votes for type 1 (m_f1>0.5):  (99, 18)\n"
     ]
    }
   ],
   "source": [
    "process_row_data('./output/r319_2med_AT.csv', './analysis/r319_2med_AT_result.csv')\n",
    "analyse_result('./analysis/r319_2med_AT_result.csv')"
   ]
  },
  {
   "cell_type": "code",
   "execution_count": 21,
   "metadata": {},
   "outputs": [
    {
     "name": "stdout",
     "output_type": "stream",
     "text": [
      "votes for type 0 (no threshold):  (69, 18)\n",
      "votes for type 1 (no threshold):  (83, 18)\n",
      "votes for type 0 (m_f1>0.5):  (60, 18)\n",
      "votes for type 1 (m_f1>0.5):  (80, 18)\n"
     ]
    }
   ],
   "source": [
    "process_row_data('./output/r320_2med_AT.csv', './analysis/r320_2med_AT_result.csv')\n",
    "analyse_result('./analysis/r320_2med_AT_result.csv')"
   ]
  },
  {
   "cell_type": "code",
   "execution_count": 22,
   "metadata": {},
   "outputs": [
    {
     "name": "stdout",
     "output_type": "stream",
     "text": [
      "votes for type 0 (no threshold):  (62, 18)\n",
      "votes for type 1 (no threshold):  (90, 18)\n",
      "votes for type 0 (m_f1>0.5):  (53, 18)\n",
      "votes for type 1 (m_f1>0.5):  (90, 18)\n"
     ]
    }
   ],
   "source": [
    "process_row_data('./output/r321_2med_AT.csv', './analysis/r321_2med_AT_result.csv')\n",
    "analyse_result('./analysis/r321_2med_AT_result.csv')"
   ]
  },
  {
   "cell_type": "code",
   "execution_count": null,
   "metadata": {
    "collapsed": true
   },
   "outputs": [],
   "source": []
  }
 ],
 "metadata": {
  "kernelspec": {
   "display_name": "Python 3",
   "language": "python",
   "name": "python3"
  },
  "language_info": {
   "codemirror_mode": {
    "name": "ipython",
    "version": 3
   },
   "file_extension": ".py",
   "mimetype": "text/x-python",
   "name": "python",
   "nbconvert_exporter": "python",
   "pygments_lexer": "ipython3",
   "version": "3.5.4"
  }
 },
 "nbformat": 4,
 "nbformat_minor": 2
}
