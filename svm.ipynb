{
 "cells": [
  {
   "cell_type": "code",
   "execution_count": 1,
   "metadata": {
    "collapsed": true
   },
   "outputs": [],
   "source": [
    "import pandas as pd\n",
    "import numpy as np\n",
    "import matplotlib as mpl\n",
    "import matplotlib.pyplot as plt\n",
    "from sklearn.metrics import confusion_matrix, classification_report\n",
    "from sklearn.model_selection import GridSearchCV\n",
    "from sklearn.svm import SVC\n",
    "from sklearn.metrics import f1_score\n",
    "\n",
    "%matplotlib inline\n",
    "\n",
    "# a function to draw a plot of an SVM\n",
    "def plot_svc(svc, X, y, h=0.02, pad=0.25):\n",
    "    x_min, x_max = X[:, 0].min()-pad, X[:, 0].max()+pad\n",
    "    y_min, y_max = X[:, 1].min()-pad, X[:, 1].max()+pad\n",
    "    xx, yy = np.meshgrid(np.arange(x_min, x_max, h), np.arange(y_min, y_max, h))\n",
    "    Z = svc.predict(np.c_[xx.ravel(), yy.ravel()])\n",
    "    Z = Z.reshape(xx.shape)\n",
    "    plt.figure(figsize=(8, 5))\n",
    "    plt.contourf(xx, yy, Z, cmap=plt.cm.Paired, alpha=0.2)\n",
    "\n",
    "    plt.scatter(X[:,0], X[:,1], s=70, c=y, cmap=mpl.cm.Paired)\n",
    "    sv = svc.support_vectors_\n",
    "    plt.xlim(x_min, x_max)\n",
    "    plt.ylim(y_min, y_max)\n",
    "    plt.xlabel('X1')\n",
    "    plt.ylabel('X2')\n",
    "    plt.show()"
   ]
  },
  {
   "cell_type": "code",
   "execution_count": 76,
   "metadata": {},
   "outputs": [
    {
     "data": {
      "text/html": [
       "<div>\n",
       "<style scoped>\n",
       "    .dataframe tbody tr th:only-of-type {\n",
       "        vertical-align: middle;\n",
       "    }\n",
       "\n",
       "    .dataframe tbody tr th {\n",
       "        vertical-align: top;\n",
       "    }\n",
       "\n",
       "    .dataframe thead th {\n",
       "        text-align: right;\n",
       "    }\n",
       "</style>\n",
       "<table border=\"1\" class=\"dataframe\">\n",
       "  <thead>\n",
       "    <tr style=\"text-align: right;\">\n",
       "      <th></th>\n",
       "      <th>sample_index</th>\n",
       "      <th>min_alpha</th>\n",
       "      <th>max_alpha</th>\n",
       "      <th>min_theta</th>\n",
       "      <th>max_theta</th>\n",
       "      <th>num</th>\n",
       "      <th>pts</th>\n",
       "      <th>r</th>\n",
       "      <th>stype</th>\n",
       "      <th>unique_key</th>\n",
       "      <th>landmark_index</th>\n",
       "    </tr>\n",
       "  </thead>\n",
       "  <tbody>\n",
       "    <tr>\n",
       "      <th>0</th>\n",
       "      <td>1</td>\n",
       "      <td>-90.51</td>\n",
       "      <td>-80.99</td>\n",
       "      <td>-3.14</td>\n",
       "      <td>-2.36</td>\n",
       "      <td>50</td>\n",
       "      <td>0</td>\n",
       "      <td>NaN</td>\n",
       "      <td>mt-at</td>\n",
       "      <td>-90.51/-3.14</td>\n",
       "      <td>1</td>\n",
       "    </tr>\n",
       "    <tr>\n",
       "      <th>1</th>\n",
       "      <td>101</td>\n",
       "      <td>-90.51</td>\n",
       "      <td>-80.99</td>\n",
       "      <td>-3.14</td>\n",
       "      <td>-2.36</td>\n",
       "      <td>50</td>\n",
       "      <td>0</td>\n",
       "      <td>NaN</td>\n",
       "      <td>wt-at</td>\n",
       "      <td>-90.51/-3.14</td>\n",
       "      <td>1</td>\n",
       "    </tr>\n",
       "    <tr>\n",
       "      <th>2</th>\n",
       "      <td>102</td>\n",
       "      <td>-90.51</td>\n",
       "      <td>-80.99</td>\n",
       "      <td>-3.14</td>\n",
       "      <td>-2.36</td>\n",
       "      <td>50</td>\n",
       "      <td>0</td>\n",
       "      <td>NaN</td>\n",
       "      <td>wt-at</td>\n",
       "      <td>-90.51/-3.14</td>\n",
       "      <td>1</td>\n",
       "    </tr>\n",
       "    <tr>\n",
       "      <th>3</th>\n",
       "      <td>103</td>\n",
       "      <td>-90.51</td>\n",
       "      <td>-80.99</td>\n",
       "      <td>-3.14</td>\n",
       "      <td>-2.36</td>\n",
       "      <td>50</td>\n",
       "      <td>0</td>\n",
       "      <td>NaN</td>\n",
       "      <td>wt-at</td>\n",
       "      <td>-90.51/-3.14</td>\n",
       "      <td>1</td>\n",
       "    </tr>\n",
       "    <tr>\n",
       "      <th>4</th>\n",
       "      <td>104</td>\n",
       "      <td>-90.51</td>\n",
       "      <td>-80.99</td>\n",
       "      <td>-3.14</td>\n",
       "      <td>-2.36</td>\n",
       "      <td>50</td>\n",
       "      <td>0</td>\n",
       "      <td>NaN</td>\n",
       "      <td>wt-at</td>\n",
       "      <td>-90.51/-3.14</td>\n",
       "      <td>1</td>\n",
       "    </tr>\n",
       "  </tbody>\n",
       "</table>\n",
       "</div>"
      ],
      "text/plain": [
       "  sample_index  min_alpha  max_alpha  min_theta  max_theta  num  pts   r  \\\n",
       "0            1     -90.51     -80.99      -3.14      -2.36   50    0 NaN   \n",
       "1          101     -90.51     -80.99      -3.14      -2.36   50    0 NaN   \n",
       "2          102     -90.51     -80.99      -3.14      -2.36   50    0 NaN   \n",
       "3          103     -90.51     -80.99      -3.14      -2.36   50    0 NaN   \n",
       "4          104     -90.51     -80.99      -3.14      -2.36   50    0 NaN   \n",
       "\n",
       "   stype    unique_key  landmark_index  \n",
       "0  mt-at  -90.51/-3.14               1  \n",
       "1  wt-at  -90.51/-3.14               1  \n",
       "2  wt-at  -90.51/-3.14               1  \n",
       "3  wt-at  -90.51/-3.14               1  \n",
       "4  wt-at  -90.51/-3.14               1  "
      ]
     },
     "execution_count": 76,
     "metadata": {},
     "output_type": "execute_result"
    }
   ],
   "source": [
    "landmarks = pd.read_csv('./data/landmark_AT_w_index.csv')\n",
    "landmarks.head()"
   ]
  },
  {
   "cell_type": "code",
   "execution_count": 77,
   "metadata": {},
   "outputs": [],
   "source": [
    "r_means = []\n",
    "r_mean_total = np.mean(landmarks[landmarks.pts!=0]).r\n",
    "max_landmark = np.max(landmarks.landmark_index)\n",
    "for i in range(1,max_landmark+1):\n",
    "    chosenLandmark = landmarks[landmarks.landmark_index==i]\n",
    "    chosenLandmark_no_na = chosenLandmark[chosenLandmark.pts != 0]\n",
    "    na_fill = r_mean_total if chosenLandmark_no_na.shape[0]==0 else np.mean(chosenLandmark_no_na.r)\n",
    "    r_means.append(na_fill)"
   ]
  },
  {
   "cell_type": "code",
   "execution_count": 78,
   "metadata": {},
   "outputs": [
    {
     "name": "stderr",
     "output_type": "stream",
     "text": [
      "/Users/dejiatang/anaconda/lib/python3.5/site-packages/ipykernel_launcher.py:3: FutureWarning: set_value is deprecated and will be removed in a future release. Please use .at[] or .iat[] accessors instead\n",
      "  This is separate from the ipykernel package so we can avoid doing imports until\n"
     ]
    }
   ],
   "source": [
    "for i, row in landmarks.iterrows():\n",
    "    if row.pts==0:\n",
    "        landmarks.set_value(i,'r',r_means[row.landmark_index-1])"
   ]
  },
  {
   "cell_type": "code",
   "execution_count": 79,
   "metadata": {},
   "outputs": [],
   "source": [
    "landmarks.to_csv('./data/landmark_AT_w_index_no_na.csv', sep=',')"
   ]
  },
  {
   "cell_type": "markdown",
   "metadata": {},
   "source": [
    "## SVM Method "
   ]
  },
  {
   "cell_type": "code",
   "execution_count": 3,
   "metadata": {
    "collapsed": true
   },
   "outputs": [],
   "source": [
    "def svm_classification(landmarks, index):\n",
    "    # filter out the landmarks needed\n",
    "    chosenLandmark = landmarks[landmarks.landmark_index==index]\n",
    "    \n",
    "    # create training and testing data\n",
    "    X = chosenLandmark[['pts', 'r']]\n",
    "    y = chosenLandmark['stype']\n",
    "    y = y.replace(['mt-zrf'], 1)\n",
    "    y = y.replace(['wt-zrf'], 0)\n",
    "    \n",
    "    # present the data\n",
    "    '''plt.figure(figsize=(8, 5))\n",
    "    plt.scatter(X.values[:,0], X.values[:,1], s=70, c=y, cmap=mpl.cm.Paired)\n",
    "    plt.xlabel('X1')\n",
    "    plt.ylabel('X2')\n",
    "    plt.show()'''\n",
    "    \n",
    "    # find the best C value by cross-validation\n",
    "    tuned_parameters = [{'C': [0.01, 0.1, 1, 10, 100, 1000]}]\n",
    "    clf = GridSearchCV(SVC(kernel='linear'), tuned_parameters, cv=10, scoring='accuracy')\n",
    "    clf.fit(X.values, y.values)\n",
    "    best_c = clf.best_params_['C']\n",
    "    \n",
    "    svc = SVC(C=best_c, kernel='linear')\n",
    "    svc.fit(X, y)\n",
    "    \n",
    "    plot_svc(svc, X.values, y)\n",
    "    \n",
    "    prediction = svc.predict(X)\n",
    "    # print confusion matrix\n",
    "    print(\"confusion matrix: \")\n",
    "    cm = confusion_matrix(y, prediction)\n",
    "    cm_df = pd.DataFrame(cm.T, index=svc.classes_, columns=svc.classes_)\n",
    "    print(cm_df)\n",
    "    print('Classification Report: ')\n",
    "    print(classification_report(y, \n",
    "                            prediction,\n",
    "                            digits = 3))\n",
    "    # print accuracy score\n",
    "    print('Classification Accuracy: ')\n",
    "    accuracy = f1_score(y, prediction)\n",
    "    print(accuracy)\n",
    "    \n",
    "    return svc, accuracy"
   ]
  },
  {
   "cell_type": "markdown",
   "metadata": {},
   "source": [
    "## Testing SVM Method "
   ]
  },
  {
   "cell_type": "code",
   "execution_count": 5,
   "metadata": {},
   "outputs": [
    {
     "name": "stdout",
     "output_type": "stream",
     "text": [
      "index: 1\n"
     ]
    },
    {
     "data": {
      "image/png": "[encoded data removed]",
      "text/plain": [
       "<matplotlib.figure.Figure at 0x112c43080>"
      ]
     },
     "metadata": {},
     "output_type": "display_data"
    },
    {
     "name": "stdout",
     "output_type": "stream",
     "text": [
      "confusion matrix: \n",
      "    0  1\n",
      "0  40  5\n",
      "1   0  9\n",
      "Classification Report: \n",
      "             precision    recall  f1-score   support\n",
      "\n",
      "          0      0.889     1.000     0.941        40\n",
      "          1      1.000     0.643     0.783        14\n",
      "\n",
      "avg / total      0.918     0.907     0.900        54\n",
      "\n",
      "Classification Accuracy: \n",
      "0.782608695652\n",
      "0.782608695652\n"
     ]
    }
   ],
   "source": [
    "for i in range(1,2):\n",
    "    print(\"index: \" + str(i))\n",
    "    svc, accuracy = svm_classification(landmarks, i+1)\n",
    "    print(accuracy)"
   ]
  },
  {
   "cell_type": "markdown",
   "metadata": {
    "collapsed": true
   },
   "source": [
    "### Testing One Sample"
   ]
  },
  {
   "cell_type": "code",
   "execution_count": 85,
   "metadata": {},
   "outputs": [],
   "source": [
    "sample_1 = landmarks[landmarks.sample_index=='112_1']\n",
    "sample_1 = sample_1[np.isfinite(sample_1['r'])]\n",
    "landmarks_1 = sample_1['landmark_index']"
   ]
  },
  {
   "cell_type": "code",
   "execution_count": null,
   "metadata": {
    "collapsed": true
   },
   "outputs": [],
   "source": [
    "results = []\n",
    "for l in landmarks_1.values:\n",
    "    print (\"landmark: \", str(l))\n",
    "    svc, accuracy = svm_classification(landmarks[landmarks.sample_index!=1], l)\n",
    "    prediction = svc.predict(sample_1[sample_1.landmark_index==1][['pts', 'r']])\n",
    "    results.append((l, prediction[0], accuracy))\n",
    "    print(results)"
   ]
  },
  {
   "cell_type": "code",
   "execution_count": 1,
   "metadata": {
    "collapsed": true
   },
   "outputs": [],
   "source": [
    "r = [(1, 0, 0.5333333333333333), (2, 1, 0.8), (3, 0, 0.4285714285714285), (4, 0, 0.8461538461538461), (5, 0, 0.47058823529411764), (6, 0, 0.6363636363636364), (7, 0, 0.4), (8, 0, 0.8275862068965518), (9, 0, 0.6666666666666665), (10, 0, 0.5714285714285714), (11, 0, 0.625), (12, 0, 0.8571428571428571), (13, 0, 0.0), (14, 0, 0.7857142857142857), (15, 0, 0.5555555555555556), (16, 0, 0.7741935483870968), (17, 0, 0.4285714285714285), (18, 0, 0.6428571428571429), (19, 0, 0.6666666666666665), (20, 0, 0.7692307692307692), (21, 0, 0.5333333333333333), (22, 0, 0.5185185185185186), (23, 0, 0.33333333333333337), (24, 0, 0.6086956521739131), (25, 0, 0.0), (26, 0, 0.5), (27, 0, 0.5333333333333333), (28, 0, 0.7692307692307692), (29, 0, 0.6666666666666665), (30, 0, 0.6666666666666666), (31, 0, 0.0), (32, 0, 0.8333333333333333), (33, 0, 0.5), (34, 0, 0.0), (35, 0, 0.0), (36, 0, 0.0), (37, 0, 0.631578947368421), (38, 0, 0.0), (39, 0, 0.588235294117647), (40, 0, 0.0), (41, 0, 0.5333333333333333), (42, 0, 0.0), (43, 0, 0.0), (44, 0, 0.43478260869565216), (45, 0, 0.33333333333333337), (46, 0, 0.0), (47, 0, 0.0), (48, 0, 0.0), (49, 0, 0.0), (50, 0, 0.25), (51, 0, 0.0), (52, 0, 0.0), (53, 0, 0.0), (54, 0, 0.0), (55, 0, 0.0), (56, 0, 0.0), (57, 0, 0.0), (58, 0, 0.0), (59, 0, 0.18181818181818182), (60, 0, 0.13333333333333333), (61, 0, 0.0), (62, 0, 0.0), (63, 0, 0.0), (64, 0, 0.13333333333333333), (65, 0, 0.0), (66, 1, 0.25), (67, 0, 0.0), (68, 1, 0.35294117647058826), (69, 0, 0.0), (70, 1, 0.25), (71, 0, 0.0), (72, 1, 0.35294117647058826), (73, 0, 0.0), (74, 1, 0.35294117647058826), (75, 0, 0.0), (76, 1, 0.25), (77, 0, 0.0), (78, 1, 0.25), (79, 0, 0.0), (80, 0, 0.25), (81, 0, 0.5263157894736842), (82, 0, 0.3333333333333333), (83, 0, 0.4285714285714285), (84, 0, 0.5714285714285714), (85, 0, 0.5333333333333333), (86, 0, 0.4210526315789473), (87, 0, 0.0), (88, 0, 0.25), (89, 0, 0.0), (90, 0, 0.0), (91, 0, 0.0), (92, 0, 0.0), (93, 0, 0.0), (94, 0, 0.6666666666666666), (95, 0, 0.4285714285714285), (96, 0, 0.0), (97, 0, 0.6), (98, 0, 0.0), (99, 0, 0.37499999999999994), (100, 0, 0.0), (101, 0, 0.37499999999999994), (102, 0, 0.6666666666666666), (103, 0, 0.625), (104, 0, 0.0), (105, 0, 0.4), (106, 0, 0.25), (107, 0, 0.33333333333333337), (108, 0, 0.8148148148148148), (109, 0, 0.7499999999999999), (110, 0, 0.6666666666666666), (111, 0, 0.5333333333333333), (112, 0, 0.7333333333333334), (113, 0, 0.5333333333333333), (114, 0, 0.0), (115, 0, 0.0), (116, 0, 0.0), (117, 0, 0.75), (118, 0, 0.13333333333333333), (119, 0, 0.5)]"
   ]
  },
  {
   "cell_type": "code",
   "execution_count": 2,
   "metadata": {
    "collapsed": true
   },
   "outputs": [],
   "source": [
    "r_sig = []\n",
    "for svm in r:\n",
    "    if svm[2]>0.5:\n",
    "        r_sig.append(svm)"
   ]
  },
  {
   "cell_type": "code",
   "execution_count": 3,
   "metadata": {},
   "outputs": [
    {
     "name": "stdout",
     "output_type": "stream",
     "text": [
      "119\n",
      "40\n"
     ]
    }
   ],
   "source": [
    "print(len(r))\n",
    "print(len(r_sig))"
   ]
  },
  {
   "cell_type": "code",
   "execution_count": 4,
   "metadata": {
    "collapsed": true
   },
   "outputs": [],
   "source": [
    "one = []\n",
    "zero = []\n",
    "for svm in r_sig:\n",
    "    if svm[1]==1:\n",
    "        one.append(svm)\n",
    "    else:\n",
    "        zero.append(svm)"
   ]
  },
  {
   "cell_type": "code",
   "execution_count": 5,
   "metadata": {},
   "outputs": [
    {
     "name": "stdout",
     "output_type": "stream",
     "text": [
      "1\n",
      "39\n"
     ]
    }
   ],
   "source": [
    "print(len(one))\n",
    "print(len(zero))"
   ]
  },
  {
   "cell_type": "code",
   "execution_count": null,
   "metadata": {
    "collapsed": true
   },
   "outputs": [],
   "source": []
  }
 ],
 "metadata": {
  "kernelspec": {
   "display_name": "Python 3",
   "language": "python",
   "name": "python3"
  },
  "language_info": {
   "codemirror_mode": {
    "name": "ipython",
    "version": 3
   },
   "file_extension": ".py",
   "mimetype": "text/x-python",
   "name": "python",
   "nbconvert_exporter": "python",
   "pygments_lexer": "ipython3",
   "version": "3.5.4"
  }
 },
 "nbformat": 4,
 "nbformat_minor": 2
}
