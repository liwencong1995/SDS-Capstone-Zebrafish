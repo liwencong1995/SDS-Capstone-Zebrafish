{
 "cells": [
  {
   "cell_type": "code",
   "execution_count": 1,
   "metadata": {
    "collapsed": true
   },
   "outputs": [],
   "source": [
    "import pandas as pd\n",
    "import numpy as np\n",
    "import matplotlib as mpl\n",
    "import matplotlib.pyplot as plt\n",
    "from sklearn.metrics import confusion_matrix, classification_report\n",
    "from sklearn.model_selection import GridSearchCV\n",
    "from sklearn.svm import SVC\n",
    "from sklearn.metrics import f1_score, precision_score, recall_score\n",
    "\n",
    "%matplotlib inline\n",
    "\n",
    "# a function to draw a plot of an SVM\n",
    "def plot_svc(svc, X, y, h=0.02, pad=0.25):\n",
    "    x_min, x_max = X[:, 0].min()-pad, X[:, 0].max()+pad\n",
    "    y_min, y_max = X[:, 1].min()-pad, X[:, 1].max()+pad\n",
    "    xx, yy = np.meshgrid(np.arange(x_min, x_max, h), np.arange(y_min, y_max, h))\n",
    "    Z = svc.predict(np.c_[xx.ravel(), yy.ravel()])\n",
    "    Z = Z.reshape(xx.shape)\n",
    "    plt.figure(figsize=(8, 5))\n",
    "    plt.contourf(xx, yy, Z, cmap=plt.cm.Paired, alpha=0.2)\n",
    "\n",
    "    plt.scatter(X[:,0], X[:,1], s=70, c=y, cmap=mpl.cm.Paired)\n",
    "    sv = svc.support_vectors_\n",
    "    plt.xlim(x_min, x_max)\n",
    "    plt.ylim(y_min, y_max)\n",
    "    plt.xlabel('X1')\n",
    "    plt.ylabel('X2')\n",
    "    plt.show()"
   ]
  },
  {
   "cell_type": "code",
   "execution_count": 111,
   "metadata": {},
   "outputs": [
    {
     "data": {
      "text/html": [
       "<div>\n",
       "<style scoped>\n",
       "    .dataframe tbody tr th:only-of-type {\n",
       "        vertical-align: middle;\n",
       "    }\n",
       "\n",
       "    .dataframe tbody tr th {\n",
       "        vertical-align: top;\n",
       "    }\n",
       "\n",
       "    .dataframe thead th {\n",
       "        text-align: right;\n",
       "    }\n",
       "</style>\n",
       "<table border=\"1\" class=\"dataframe\">\n",
       "  <thead>\n",
       "    <tr style=\"text-align: right;\">\n",
       "      <th></th>\n",
       "      <th>landmark_index</th>\n",
       "      <th>sample_index</th>\n",
       "      <th>min_alpha</th>\n",
       "      <th>max_alpha</th>\n",
       "      <th>min_theta</th>\n",
       "      <th>max_theta</th>\n",
       "      <th>num</th>\n",
       "      <th>pts</th>\n",
       "      <th>r</th>\n",
       "      <th>stype</th>\n",
       "    </tr>\n",
       "  </thead>\n",
       "  <tbody>\n",
       "    <tr>\n",
       "      <th>0</th>\n",
       "      <td>1</td>\n",
       "      <td>1</td>\n",
       "      <td>-14.29</td>\n",
       "      <td>-4.76</td>\n",
       "      <td>-0.79</td>\n",
       "      <td>0.00</td>\n",
       "      <td>50</td>\n",
       "      <td>19</td>\n",
       "      <td>12.885591</td>\n",
       "      <td>mt-zrf</td>\n",
       "    </tr>\n",
       "    <tr>\n",
       "      <th>1</th>\n",
       "      <td>2</td>\n",
       "      <td>1</td>\n",
       "      <td>-14.29</td>\n",
       "      <td>-4.76</td>\n",
       "      <td>-1.57</td>\n",
       "      <td>-0.79</td>\n",
       "      <td>50</td>\n",
       "      <td>0</td>\n",
       "      <td>NaN</td>\n",
       "      <td>mt-zrf</td>\n",
       "    </tr>\n",
       "    <tr>\n",
       "      <th>2</th>\n",
       "      <td>3</td>\n",
       "      <td>1</td>\n",
       "      <td>-14.29</td>\n",
       "      <td>-4.76</td>\n",
       "      <td>-2.36</td>\n",
       "      <td>-1.57</td>\n",
       "      <td>50</td>\n",
       "      <td>0</td>\n",
       "      <td>NaN</td>\n",
       "      <td>mt-zrf</td>\n",
       "    </tr>\n",
       "    <tr>\n",
       "      <th>3</th>\n",
       "      <td>4</td>\n",
       "      <td>1</td>\n",
       "      <td>-14.29</td>\n",
       "      <td>-4.76</td>\n",
       "      <td>-3.14</td>\n",
       "      <td>-2.36</td>\n",
       "      <td>50</td>\n",
       "      <td>0</td>\n",
       "      <td>NaN</td>\n",
       "      <td>mt-zrf</td>\n",
       "    </tr>\n",
       "    <tr>\n",
       "      <th>4</th>\n",
       "      <td>5</td>\n",
       "      <td>1</td>\n",
       "      <td>-14.29</td>\n",
       "      <td>-4.76</td>\n",
       "      <td>0.00</td>\n",
       "      <td>0.79</td>\n",
       "      <td>50</td>\n",
       "      <td>1</td>\n",
       "      <td>2.318041</td>\n",
       "      <td>mt-zrf</td>\n",
       "    </tr>\n",
       "  </tbody>\n",
       "</table>\n",
       "</div>"
      ],
      "text/plain": [
       "   landmark_index  sample_index  min_alpha  max_alpha  min_theta  max_theta  \\\n",
       "0               1             1     -14.29      -4.76      -0.79       0.00   \n",
       "1               2             1     -14.29      -4.76      -1.57      -0.79   \n",
       "2               3             1     -14.29      -4.76      -2.36      -1.57   \n",
       "3               4             1     -14.29      -4.76      -3.14      -2.36   \n",
       "4               5             1     -14.29      -4.76       0.00       0.79   \n",
       "\n",
       "   num  pts          r   stype  \n",
       "0   50   19  12.885591  mt-zrf  \n",
       "1   50    0        NaN  mt-zrf  \n",
       "2   50    0        NaN  mt-zrf  \n",
       "3   50    0        NaN  mt-zrf  \n",
       "4   50    1   2.318041  mt-zrf  "
      ]
     },
     "execution_count": 111,
     "metadata": {},
     "output_type": "execute_result"
    }
   ],
   "source": [
    "landmarks = pd.read_csv('./data/tidyLandmarks_AT.csv')\n",
    "landmarks['landmark_index'] = pd.to_numeric(landmarks.landmark_index, errors='coerce').values\n",
    "landmarks['r'] = pd.to_numeric(landmarks.r, errors='coerce').values\n",
    "landmarks['pts'] = pd.to_numeric(landmarks.pts, errors='coerce').values\n",
    "landmarks.head()"
   ]
  },
  {
   "cell_type": "markdown",
   "metadata": {},
   "source": [
    "## missing values"
   ]
  },
  {
   "cell_type": "code",
   "execution_count": 106,
   "metadata": {},
   "outputs": [],
   "source": [
    "r_means = []\n",
    "#land = pd.to_numeric(landmarks.landmark_index, errors='coerce').values\n",
    "for i in range(1, int(max(landmarks['landmark_index']))+1):\n",
    "    chosenLandmark = landmarks[landmarks.landmark_index==i]\n",
    "    chosenLandmark = chosenLandmark[chosenLandmark.num != 0]\n",
    "    r_means.append(np.mean(chosenLandmark.r))"
   ]
  },
  {
   "cell_type": "code",
   "execution_count": 108,
   "metadata": {},
   "outputs": [],
   "source": [
    "for i in range(0, len(landmarks)):\n",
    "    if (landmarks.iloc[i]['pts']==0):\n",
    "        landmarks.loc[i,'r'] = r_means[landmarks.iloc[i]['landmark_index'] - 1]"
   ]
  },
  {
   "cell_type": "code",
   "execution_count": 110,
   "metadata": {
    "collapsed": true
   },
   "outputs": [],
   "source": [
    "landmarks.to_csv(\"tidyLandmarks_AT_no_na.csv\", sep=',')"
   ]
  },
  {
   "cell_type": "markdown",
   "metadata": {},
   "source": [
    "## SVM Method "
   ]
  },
  {
   "cell_type": "code",
   "execution_count": 15,
   "metadata": {
    "collapsed": true
   },
   "outputs": [],
   "source": [
    "def svm_classification(landmarks, index):\n",
    "    # filter out the landmarks needed\n",
    "    chosenLandmark = landmarks[landmarks.landmark_index==index]\n",
    "    \n",
    "    # create training and testing data\n",
    "    X = chosenLandmark[['pts', 'r']]\n",
    "    y = chosenLandmark['stype']\n",
    "    y = y.replace(['mt-zrf'], 1)\n",
    "    y = y.replace(['wt-zrf'], 0)\n",
    "    \n",
    "    \n",
    "    # present the data\n",
    "    plt.figure(figsize=(8, 5))\n",
    "    plt.scatter(X.values[:,0], X.values[:,1], s=30, c=y, cmap=mpl.cm.Paired, alpha=0.8)\n",
    "    plt.xlabel('X1')\n",
    "    plt.ylabel('X2')\n",
    "    plt.show()\n",
    "    \n",
    "    # find the best C value by cross-validation\n",
    "    tuned_parameters = [{'C': [0.1, 1, 10]}]\n",
    "\n",
    "    clf = GridSearchCV(SVC(kernel='linear'), tuned_parameters, cv=10, scoring='accuracy')\n",
    "    clf.fit(X.values, y.values)\n",
    "    best_c = clf.best_params_['C']\n",
    "    \n",
    "    svc = SVC(C=1, kernel='linear')\n",
    "    svc.fit(X, y)\n",
    "    \n",
    "    plot_svc(svc, X.values, y)\n",
    "    \n",
    "    prediction = svc.predict(X)\n",
    "    # print confusion matrix\n",
    "    print(\"confusion matrix: \")\n",
    "    cm = confusion_matrix(y, prediction)\n",
    "    cm_df = pd.DataFrame(cm.T, index=svc.classes_, columns=svc.classes_)\n",
    "    print(cm_df)\n",
    "    print('Classification Report: ')\n",
    "    print(classification_report(y, \n",
    "                            prediction,\n",
    "                            digits = 3))\n",
    "    # print results\n",
    "    print('Classification Accuracy Results: ')\n",
    "    ww =0\n",
    "    wm = 0\n",
    "    mm = 0\n",
    "    mw = 0\n",
    "    \n",
    "    for i in range (len(y)):\n",
    "        _y = y.values[i]\n",
    "        _p = prediction[i]\n",
    "\n",
    "        if _y==1 and _p==1:\n",
    "            mm = mm + 1\n",
    "        elif _y==1 and _p==0:\n",
    "            mw = mw + 1\n",
    "        elif _y==0 and _p==0:\n",
    "            ww = ww + 1\n",
    "        elif _y==0 and _p==1:\n",
    "            wm = wm + 1\n",
    "\n",
    "    \n",
    "    return svc, ww, wm, mm, mw"
   ]
  },
  {
   "cell_type": "markdown",
   "metadata": {},
   "source": [
    "## Testing SVM Method "
   ]
  },
  {
   "cell_type": "code",
   "execution_count": 16,
   "metadata": {},
   "outputs": [
    {
     "name": "stdout",
     "output_type": "stream",
     "text": [
      "index: 1\n"
     ]
    },
    {
     "data": {
      "image/png": "[encoded data removed]",
      "text/plain": [
       "<matplotlib.figure.Figure at 0x2dc4790b8>"
      ]
     },
     "metadata": {},
     "output_type": "display_data"
    },
    {
     "data": {
      "image/png": "[encoded data removed]",
      "text/plain": [
       "<matplotlib.figure.Figure at 0x11aae09b0>"
      ]
     },
     "metadata": {},
     "output_type": "display_data"
    },
    {
     "name": "stdout",
     "output_type": "stream",
     "text": [
      "confusion matrix: \n",
      "    0   1\n",
      "0  40   5\n",
      "1   2  10\n",
      "Classification Report: \n",
      "             precision    recall  f1-score   support\n",
      "\n",
      "          0      0.889     0.952     0.920        42\n",
      "          1      0.833     0.667     0.741        15\n",
      "\n",
      "avg / total      0.874     0.877     0.872        57\n",
      "\n",
      "Classification Accuracy Results: \n"
     ]
    }
   ],
   "source": [
    "for i in range(1,2):\n",
    "    print(\"index: \" + str(i))\n",
    "    svc, ww, wm, mm, mw = svm_classification(landmarks, i+1)\n",
    "    print(svc, ww, wm, mm, mw)\n"
   ]
  },
  {
   "cell_type": "markdown",
   "metadata": {
    "collapsed": true
   },
   "source": [
    "### Testing One Sample"
   ]
  },
  {
   "cell_type": "code",
   "execution_count": 59,
   "metadata": {},
   "outputs": [
    {
     "data": {
      "text/plain": [
       "1405    38\n",
       "1406    39\n",
       "1407    40\n",
       "1408    41\n",
       "1409    42\n",
       "1410    43\n",
       "1411    44\n",
       "1412    45\n",
       "1413    46\n",
       "1414    47\n",
       "1415    48\n",
       "1416    49\n",
       "1417    50\n",
       "1418    51\n",
       "1419    52\n",
       "1420    53\n",
       "1421    54\n",
       "1422    55\n",
       "1423    56\n",
       "1424    57\n",
       "Name: landmark_index, dtype: int64"
      ]
     },
     "execution_count": 59,
     "metadata": {},
     "output_type": "execute_result"
    }
   ],
   "source": [
    "sample_1 = landmarks[landmarks.sample_index==101]\n",
    "landmarks_1 = sample_1['landmark_index']"
   ]
  },
  {
   "cell_type": "code",
   "execution_count": null,
   "metadata": {
    "collapsed": true
   },
   "outputs": [],
   "source": [
    "results = []\n",
    "for l in landmarks_1.values:\n",
    "    print (\"landmark: \", str(l))\n",
    "    svc, accuracy = svm_classification(landmarks[landmarks.sample_index!=1], l)\n",
    "    prediction = svc.predict(sample_1[sample_1.landmark_index==1][['pts', 'r']])\n",
    "    results.append((l, prediction[0], accuracy))\n",
    "    print(results)"
   ]
  },
  {
   "cell_type": "code",
   "execution_count": 65,
   "metadata": {},
   "outputs": [],
   "source": [
    "r = [(1, 1, 0.5333333333333333), (2, 1, 0.8181818181818181), (3, 0, 0.4285714285714285), (4, 1, 0.8799999999999999), (5, 1, 0.47058823529411764), (6, 1, 0.6666666666666667), (7, 0, 0.4), (8, 1, 0.8571428571428571), (9, 1, 0.6666666666666665), (10, 1, 0.6), (11, 0, 0.625), (12, 1, 0.9230769230769231), (13, 0, 0.0), (14, 1, 0.8333333333333333), (15, 0, 0.5555555555555556), (16, 1, 0.9230769230769231), (17, 0, 0.4285714285714285), (18, 1, 0.6428571428571429), (19, 0, 0.5714285714285715), (20, 0, 0.7692307692307692), (21, 1, 0.5333333333333333), (22, 1, 0.5833333333333334), (23, 0, 0.3636363636363636), (24, 0, 0.6363636363636364), (25, 0, 0.0), (26, 1, 0.6153846153846153), (27, 0, 0.5714285714285714), (28, 1, 0.8333333333333334), (29, 1, 0.6666666666666665), (30, 1, 0.6666666666666666), (31, 0, 0.0), (32, 1, 1.0), (33, 0, 0.5), (34, 0, 0.0), (35, 0, 0.0), (36, 0, 0.0), (37, 0, 0.30769230769230765), (38, 0, 0.0), (39, 0, 0.3636363636363636), (40, 1, 0.6428571428571429), (41, 0, 0.7777777777777777), (42, 0, 0.0), (43, 0, 0.30769230769230765), (44, 0, 0.28571428571428575), (45, 0, 0.0), (46, 0, 0.0), (47, 0, 0.0), (48, 0, 0.0), (50, 0, 0.3636363636363636), (51, 0, 0.0), (52, 0, 0.0), (56, 0, 0.0), (81, 0, 0.18181818181818182), (82, 1, 0.6363636363636365), (83, 0, 0.3636363636363636), (84, 1, 0.631578947368421), (85, 1, 0.5333333333333333), (86, 0, 0.375), (87, 1, 0.5263157894736842), (88, 1, 0.5517241379310345), (89, 0, 0.0), (90, 0, 0.0), (91, 0, 0.0), (92, 0, 0.6956521739130435), (93, 0, 0.0), (94, 0, 0.631578947368421), (95, 0, 0.4285714285714285), (96, 0, 0.3333333333333333), (97, 0, 0.6), (98, 0, 0.0), (99, 0, 0.37499999999999994), (100, 0, 0.0), (101, 0, 0.37499999999999994), (102, 0, 0.7000000000000001), (103, 0, 0.625), (104, 0, 0.5263157894736842), (105, 1, 0.4285714285714285), (106, 1, 0.2857142857142857), (107, 0, 0.3333333333333333), (108, 1, 0.8799999999999999), (109, 1, 0.7499999999999999), (110, 1, 0.7826086956521738), (111, 1, 0.5333333333333333), (112, 1, 0.7368421052631579), (113, 0, 0.5333333333333333), (114, 0, 0.0), (115, 0, 0.0), (116, 0, 0.0), (117, 0, 0.75), (118, 0, 0.2857142857142857), (119, 0, 0.5), (120, 0, 0.0), (121, 0, 0.6), (122, 0, 0.0), (123, 0, 0.0)]"
   ]
  },
  {
   "cell_type": "code",
   "execution_count": 66,
   "metadata": {
    "collapsed": true
   },
   "outputs": [],
   "source": [
    "r_sig = []\n",
    "for svm in r:\n",
    "    if svm[2]>0.5:\n",
    "        r_sig.append(svm)"
   ]
  },
  {
   "cell_type": "code",
   "execution_count": 67,
   "metadata": {},
   "outputs": [
    {
     "name": "stdout",
     "output_type": "stream",
     "text": [
      "95\n",
      "45\n"
     ]
    }
   ],
   "source": [
    "print(len(r))\n",
    "print(len(r_sig))"
   ]
  },
  {
   "cell_type": "code",
   "execution_count": 68,
   "metadata": {
    "collapsed": true
   },
   "outputs": [],
   "source": [
    "one = []\n",
    "zero = []\n",
    "for svm in r_sig:\n",
    "    if svm[1]==1:\n",
    "        one.append(svm)\n",
    "    else:\n",
    "        zero.append(svm)"
   ]
  },
  {
   "cell_type": "code",
   "execution_count": 69,
   "metadata": {},
   "outputs": [
    {
     "name": "stdout",
     "output_type": "stream",
     "text": [
      "29\n",
      "16\n"
     ]
    }
   ],
   "source": [
    "print(len(one))\n",
    "print(len(zero))"
   ]
  },
  {
   "cell_type": "code",
   "execution_count": 60,
   "metadata": {},
   "outputs": [
    {
     "data": {
      "text/plain": [
       "1.0"
      ]
     },
     "execution_count": 60,
     "metadata": {},
     "output_type": "execute_result"
    }
   ],
   "source": [
    "precision_score([1,1,1],[1,0,1])"
   ]
  },
  {
   "cell_type": "code",
   "execution_count": 69,
   "metadata": {
    "collapsed": true
   },
   "outputs": [],
   "source": [
    "y =   [1,0,1,1]\n",
    "pre = [0,1,1,1]"
   ]
  },
  {
   "cell_type": "code",
   "execution_count": 71,
   "metadata": {},
   "outputs": [
    {
     "name": "stdout",
     "output_type": "stream",
     "text": [
      "2 1 0 1\n"
     ]
    }
   ],
   "source": [
    "ww =0\n",
    "wm = 0\n",
    "mm = 0\n",
    "mw = 0\n",
    "for i in range (len(y)):\n",
    "    if y[i]==1 and pre[i]==1:\n",
    "        mm = mm + 1\n",
    "    elif y[i]==1 and pre[i]==0:\n",
    "        mw = mw + 1\n",
    "    elif y[i]==0 and pre[i]==0:\n",
    "        ww = ww + 1\n",
    "    elif y[i]==0 and pre[i]==1:\n",
    "        wm = wm + 1\n",
    "\n",
    "print(mm, mw, ww, wm)"
   ]
  },
  {
   "cell_type": "code",
   "execution_count": null,
   "metadata": {
    "collapsed": true
   },
   "outputs": [],
   "source": []
  }
 ],
 "metadata": {
  "kernelspec": {
   "display_name": "Python 3",
   "language": "python",
   "name": "python3"
  },
  "language_info": {
   "codemirror_mode": {
    "name": "ipython",
    "version": 3
   },
   "file_extension": ".py",
   "mimetype": "text/x-python",
   "name": "python",
   "nbconvert_exporter": "python",
   "pygments_lexer": "ipython3",
   "version": "3.5.4"
  }
 },
 "nbformat": 4,
 "nbformat_minor": 2
}
