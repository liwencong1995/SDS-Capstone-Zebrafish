{
 "cells": [
  {
   "cell_type": "code",
   "execution_count": 53,
   "metadata": {
    "collapsed": true
   },
   "outputs": [],
   "source": [
    "import pandas as pd\n",
    "import numpy as np\n",
    "import matplotlib as mpl\n",
    "import matplotlib.pyplot as plt\n",
    "from sklearn.metrics import confusion_matrix\n",
    "\n",
    "%matplotlib inline\n",
    "\n",
    "# We'll define a function to draw a nice plot of an SVM\n",
    "def plot_svc(svc, X, y, h=0.02, pad=0.25):\n",
    "    x_min, x_max = X[:, 0].min()-pad, X[:, 0].max()+pad\n",
    "    y_min, y_max = X[:, 1].min()-pad, X[:, 1].max()+pad\n",
    "    xx, yy = np.meshgrid(np.arange(x_min, x_max, h), np.arange(y_min, y_max, h))\n",
    "    Z = svc.predict(np.c_[xx.ravel(), yy.ravel()])\n",
    "    Z = Z.reshape(xx.shape)\n",
    "    plt.contourf(xx, yy, Z, cmap=plt.cm.Paired, alpha=0.2)\n",
    "\n",
    "    plt.scatter(X[:,0], X[:,1], s=70, c=y, cmap=mpl.cm.Paired)\n",
    "    # Support vectors indicated in plot by vertical lines\n",
    "    sv = svc.support_vectors_\n",
    "    plt.scatter(sv[:,0], sv[:,1], c='k', marker='x', s=100, linewidths='1')\n",
    "    plt.xlim(x_min, x_max)\n",
    "    plt.ylim(y_min, y_max)\n",
    "    plt.xlabel('X1')\n",
    "    plt.ylabel('X2')\n",
    "    plt.show()\n",
    "    print('Number of support vectors: ', svc.support_.size)"
   ]
  },
  {
   "cell_type": "code",
   "execution_count": 54,
   "metadata": {
    "collapsed": true
   },
   "outputs": [],
   "source": [
    "from sklearn.svm import SVC"
   ]
  },
  {
   "cell_type": "code",
   "execution_count": 55,
   "metadata": {},
   "outputs": [
    {
     "data": {
      "text/html": [
       "<div>\n",
       "<style scoped>\n",
       "    .dataframe tbody tr th:only-of-type {\n",
       "        vertical-align: middle;\n",
       "    }\n",
       "\n",
       "    .dataframe tbody tr th {\n",
       "        vertical-align: top;\n",
       "    }\n",
       "\n",
       "    .dataframe thead th {\n",
       "        text-align: right;\n",
       "    }\n",
       "</style>\n",
       "<table border=\"1\" class=\"dataframe\">\n",
       "  <thead>\n",
       "    <tr style=\"text-align: right;\">\n",
       "      <th></th>\n",
       "      <th>Unnamed: 0</th>\n",
       "      <th>Index</th>\n",
       "      <th>min_alpha</th>\n",
       "      <th>max_alpha</th>\n",
       "      <th>min_theta</th>\n",
       "      <th>max_theta</th>\n",
       "      <th>num</th>\n",
       "      <th>pts</th>\n",
       "      <th>r</th>\n",
       "      <th>stype</th>\n",
       "    </tr>\n",
       "  </thead>\n",
       "  <tbody>\n",
       "    <tr>\n",
       "      <th>0</th>\n",
       "      <td>1</td>\n",
       "      <td>1</td>\n",
       "      <td>-14.29</td>\n",
       "      <td>-4.76</td>\n",
       "      <td>-0.79</td>\n",
       "      <td>0.00</td>\n",
       "      <td>50</td>\n",
       "      <td>1251</td>\n",
       "      <td>5.000388</td>\n",
       "      <td>mt-zrf</td>\n",
       "    </tr>\n",
       "    <tr>\n",
       "      <th>1</th>\n",
       "      <td>2</td>\n",
       "      <td>1</td>\n",
       "      <td>-14.29</td>\n",
       "      <td>-4.76</td>\n",
       "      <td>-1.57</td>\n",
       "      <td>-0.79</td>\n",
       "      <td>50</td>\n",
       "      <td>313</td>\n",
       "      <td>2.442931</td>\n",
       "      <td>mt-zrf</td>\n",
       "    </tr>\n",
       "    <tr>\n",
       "      <th>2</th>\n",
       "      <td>3</td>\n",
       "      <td>1</td>\n",
       "      <td>-14.29</td>\n",
       "      <td>-4.76</td>\n",
       "      <td>-2.36</td>\n",
       "      <td>-1.57</td>\n",
       "      <td>50</td>\n",
       "      <td>30</td>\n",
       "      <td>1.475318</td>\n",
       "      <td>mt-zrf</td>\n",
       "    </tr>\n",
       "    <tr>\n",
       "      <th>3</th>\n",
       "      <td>4</td>\n",
       "      <td>1</td>\n",
       "      <td>-14.29</td>\n",
       "      <td>-4.76</td>\n",
       "      <td>-3.14</td>\n",
       "      <td>-2.36</td>\n",
       "      <td>50</td>\n",
       "      <td>169</td>\n",
       "      <td>1.438607</td>\n",
       "      <td>mt-zrf</td>\n",
       "    </tr>\n",
       "    <tr>\n",
       "      <th>4</th>\n",
       "      <td>5</td>\n",
       "      <td>1</td>\n",
       "      <td>-14.29</td>\n",
       "      <td>-4.76</td>\n",
       "      <td>0.00</td>\n",
       "      <td>0.79</td>\n",
       "      <td>50</td>\n",
       "      <td>773</td>\n",
       "      <td>3.382828</td>\n",
       "      <td>mt-zrf</td>\n",
       "    </tr>\n",
       "  </tbody>\n",
       "</table>\n",
       "</div>"
      ],
      "text/plain": [
       "   Unnamed: 0  Index  min_alpha  max_alpha  min_theta  max_theta  num   pts  \\\n",
       "0           1      1     -14.29      -4.76      -0.79       0.00   50  1251   \n",
       "1           2      1     -14.29      -4.76      -1.57      -0.79   50   313   \n",
       "2           3      1     -14.29      -4.76      -2.36      -1.57   50    30   \n",
       "3           4      1     -14.29      -4.76      -3.14      -2.36   50   169   \n",
       "4           5      1     -14.29      -4.76       0.00       0.79   50   773   \n",
       "\n",
       "          r   stype  \n",
       "0  5.000388  mt-zrf  \n",
       "1  2.442931  mt-zrf  \n",
       "2  1.475318  mt-zrf  \n",
       "3  1.438607  mt-zrf  \n",
       "4  3.382828  mt-zrf  "
      ]
     },
     "execution_count": 55,
     "metadata": {},
     "output_type": "execute_result"
    }
   ],
   "source": [
    "landmarks = pd.read_csv('./data/tidyLandmarks.csv')\n",
    "landmarks.head()"
   ]
  },
  {
   "cell_type": "markdown",
   "metadata": {},
   "source": [
    "## Test Using The First Landmark"
   ]
  },
  {
   "cell_type": "code",
   "execution_count": 56,
   "metadata": {},
   "outputs": [
    {
     "data": {
      "text/html": [
       "<div>\n",
       "<style scoped>\n",
       "    .dataframe tbody tr th:only-of-type {\n",
       "        vertical-align: middle;\n",
       "    }\n",
       "\n",
       "    .dataframe tbody tr th {\n",
       "        vertical-align: top;\n",
       "    }\n",
       "\n",
       "    .dataframe thead th {\n",
       "        text-align: right;\n",
       "    }\n",
       "</style>\n",
       "<table border=\"1\" class=\"dataframe\">\n",
       "  <thead>\n",
       "    <tr style=\"text-align: right;\">\n",
       "      <th></th>\n",
       "      <th>Unnamed: 0</th>\n",
       "      <th>Index</th>\n",
       "      <th>min_alpha</th>\n",
       "      <th>max_alpha</th>\n",
       "      <th>min_theta</th>\n",
       "      <th>max_theta</th>\n",
       "      <th>num</th>\n",
       "      <th>pts</th>\n",
       "      <th>r</th>\n",
       "      <th>stype</th>\n",
       "    </tr>\n",
       "  </thead>\n",
       "  <tbody>\n",
       "    <tr>\n",
       "      <th>0</th>\n",
       "      <td>1</td>\n",
       "      <td>1</td>\n",
       "      <td>-14.29</td>\n",
       "      <td>-4.76</td>\n",
       "      <td>-0.79</td>\n",
       "      <td>0.0</td>\n",
       "      <td>50</td>\n",
       "      <td>1251</td>\n",
       "      <td>5.000388</td>\n",
       "      <td>mt-zrf</td>\n",
       "    </tr>\n",
       "    <tr>\n",
       "      <th>152</th>\n",
       "      <td>153</td>\n",
       "      <td>2</td>\n",
       "      <td>-14.29</td>\n",
       "      <td>-4.76</td>\n",
       "      <td>-0.79</td>\n",
       "      <td>0.0</td>\n",
       "      <td>50</td>\n",
       "      <td>294</td>\n",
       "      <td>7.605136</td>\n",
       "      <td>mt-zrf</td>\n",
       "    </tr>\n",
       "    <tr>\n",
       "      <th>304</th>\n",
       "      <td>305</td>\n",
       "      <td>3</td>\n",
       "      <td>-14.29</td>\n",
       "      <td>-4.76</td>\n",
       "      <td>-0.79</td>\n",
       "      <td>0.0</td>\n",
       "      <td>50</td>\n",
       "      <td>533</td>\n",
       "      <td>4.663728</td>\n",
       "      <td>mt-zrf</td>\n",
       "    </tr>\n",
       "    <tr>\n",
       "      <th>456</th>\n",
       "      <td>457</td>\n",
       "      <td>4</td>\n",
       "      <td>-14.29</td>\n",
       "      <td>-4.76</td>\n",
       "      <td>-0.79</td>\n",
       "      <td>0.0</td>\n",
       "      <td>50</td>\n",
       "      <td>768</td>\n",
       "      <td>7.843778</td>\n",
       "      <td>mt-zrf</td>\n",
       "    </tr>\n",
       "    <tr>\n",
       "      <th>608</th>\n",
       "      <td>609</td>\n",
       "      <td>5</td>\n",
       "      <td>-14.29</td>\n",
       "      <td>-4.76</td>\n",
       "      <td>-0.79</td>\n",
       "      <td>0.0</td>\n",
       "      <td>50</td>\n",
       "      <td>906</td>\n",
       "      <td>6.104496</td>\n",
       "      <td>mt-zrf</td>\n",
       "    </tr>\n",
       "  </tbody>\n",
       "</table>\n",
       "</div>"
      ],
      "text/plain": [
       "     Unnamed: 0  Index  min_alpha  max_alpha  min_theta  max_theta  num   pts  \\\n",
       "0             1      1     -14.29      -4.76      -0.79        0.0   50  1251   \n",
       "152         153      2     -14.29      -4.76      -0.79        0.0   50   294   \n",
       "304         305      3     -14.29      -4.76      -0.79        0.0   50   533   \n",
       "456         457      4     -14.29      -4.76      -0.79        0.0   50   768   \n",
       "608         609      5     -14.29      -4.76      -0.79        0.0   50   906   \n",
       "\n",
       "            r   stype  \n",
       "0    5.000388  mt-zrf  \n",
       "152  7.605136  mt-zrf  \n",
       "304  4.663728  mt-zrf  \n",
       "456  7.843778  mt-zrf  \n",
       "608  6.104496  mt-zrf  "
      ]
     },
     "execution_count": 56,
     "metadata": {},
     "output_type": "execute_result"
    }
   ],
   "source": [
    "firstLandmark = landmarks[np.logical_and(\n",
    "    np.logical_and(landmarks.min_alpha==-14.29, landmarks.max_alpha==-4.76), \n",
    "    np.logical_and(landmarks.min_theta==-0.79, landmarks.max_theta==0))]\n",
    "firstLandmark = firstLandmark[np.isfinite(firstLandmark['r'])]\n",
    "firstLandmark.head()"
   ]
  },
  {
   "cell_type": "code",
   "execution_count": 57,
   "metadata": {},
   "outputs": [
    {
     "name": "stderr",
     "output_type": "stream",
     "text": [
      "/Users/dejiatang/anaconda/lib/python3.5/site-packages/sklearn/model_selection/_split.py:2010: FutureWarning: From version 0.21, test_size will always complement train_size unless both are specified.\n",
      "  FutureWarning)\n"
     ]
    }
   ],
   "source": [
    "from sklearn.model_selection import train_test_split\n",
    "\n",
    "X = firstLandmark[['pts', 'r']]\n",
    "y = firstLandmark[['stype']]\n",
    "y = y.replace(['mt-zrf'], 1)\n",
    "y = y.replace(['wt-zrf'], 0)\n",
    "\n",
    "\n",
    "X_train, X_test, y_train, y_test = train_test_split(X, y, train_size=0.5, random_state=2)"
   ]
  },
  {
   "cell_type": "code",
   "execution_count": 58,
   "metadata": {},
   "outputs": [
    {
     "data": {
      "text/plain": [
       "<matplotlib.text.Text at 0x11b042e80>"
      ]
     },
     "execution_count": 58,
     "metadata": {},
     "output_type": "execute_result"
    },
    {
     "data": {
      "image/png": "[encoded data removed]",
      "text/plain": [
       "<matplotlib.figure.Figure at 0x11a910080>"
      ]
     },
     "metadata": {},
     "output_type": "display_data"
    }
   ],
   "source": [
    "plt.scatter(X.values[:,0], X.values[:,1], s=70, c=y, cmap=mpl.cm.Paired)\n",
    "plt.xlabel('X1')\n",
    "plt.ylabel('X2')"
   ]
  },
  {
   "cell_type": "code",
   "execution_count": 59,
   "metadata": {},
   "outputs": [
    {
     "name": "stderr",
     "output_type": "stream",
     "text": [
      "/Users/dejiatang/anaconda/lib/python3.5/site-packages/sklearn/utils/validation.py:547: DataConversionWarning: A column-vector y was passed when a 1d array was expected. Please change the shape of y to (n_samples, ), for example using ravel().\n",
      "  y = column_or_1d(y, warn=True)\n"
     ]
    },
    {
     "data": {
      "text/plain": [
       "SVC(C=1, cache_size=200, class_weight=None, coef0=0.0,\n",
       "  decision_function_shape='ovr', degree=3, gamma='auto', kernel='linear',\n",
       "  max_iter=-1, probability=False, random_state=None, shrinking=True,\n",
       "  tol=0.001, verbose=False)"
      ]
     },
     "execution_count": 59,
     "metadata": {},
     "output_type": "execute_result"
    }
   ],
   "source": [
    "svc = SVC(C=1, kernel='linear')\n",
    "svc.fit(X, y)"
   ]
  },
  {
   "cell_type": "code",
   "execution_count": 60,
   "metadata": {},
   "outputs": [
    {
     "data": {
      "image/png": "[encoded data removed]",
      "text/plain": [
       "<matplotlib.figure.Figure at 0x11a9dff98>"
      ]
     },
     "metadata": {},
     "output_type": "display_data"
    },
    {
     "name": "stdout",
     "output_type": "stream",
     "text": [
      "Number of support vectors:  17\n"
     ]
    }
   ],
   "source": [
    "plot_svc(svc, X.values, y)"
   ]
  },
  {
   "cell_type": "code",
   "execution_count": 61,
   "metadata": {},
   "outputs": [
    {
     "name": "stdout",
     "output_type": "stream",
     "text": [
      "    0  1\n",
      "0  20  4\n",
      "1   0  4\n"
     ]
    }
   ],
   "source": [
    "cm = confusion_matrix(y_train, svc.predict(X_train))\n",
    "cm_df = pd.DataFrame(cm.T, index=svc.classes_, columns=svc.classes_)\n",
    "print(cm_df)"
   ]
  },
  {
   "cell_type": "code",
   "execution_count": null,
   "metadata": {
    "collapsed": true
   },
   "outputs": [],
   "source": []
  }
 ],
 "metadata": {
  "kernelspec": {
   "display_name": "Python 3",
   "language": "python",
   "name": "python3"
  },
  "language_info": {
   "codemirror_mode": {
    "name": "ipython",
    "version": 3
   },
   "file_extension": ".py",
   "mimetype": "text/x-python",
   "name": "python",
   "nbconvert_exporter": "python",
   "pygments_lexer": "ipython3",
   "version": "3.5.4"
  }
 },
 "nbformat": 4,
 "nbformat_minor": 2
}
